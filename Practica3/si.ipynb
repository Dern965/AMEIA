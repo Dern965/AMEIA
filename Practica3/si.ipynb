{
 "cells": [
  {
   "cell_type": "markdown",
   "metadata": {},
   "source": [
    "# Practica 3: SGD & BGD\n",
    "***\n",
    "Rodriguez Nuñez Diego Eduardo"
   ]
  },
  {
   "cell_type": "code",
   "execution_count": 1,
   "metadata": {},
   "outputs": [],
   "source": [
    "import numpy as np\n",
    "import pandas as pd\n"
   ]
  },
  {
   "cell_type": "markdown",
   "metadata": {},
   "source": [
    "Datos de prueba"
   ]
  },
  {
   "cell_type": "code",
   "execution_count": 6,
   "metadata": {},
   "outputs": [],
   "source": [
    "x1 = [[1,1,1],[1,2,3]]\n",
    "x2 = [[1,1,1],[1,2,3],[1,3,5]]\n",
    "\n",
    "y1 = [3,6,9]\n",
    "y2 = [5,13,21]\n",
    "\n",
    "w1 = [0,0]\n",
    "w2 = [0,0,0]"
   ]
  },
  {
   "cell_type": "markdown",
   "metadata": {},
   "source": [
    "## BGD"
   ]
  },
  {
   "cell_type": "code",
   "execution_count": 2,
   "metadata": {},
   "outputs": [],
   "source": [
    "def BGD(x,y,w,iterations,alpha):\n",
    "    wp = w.copy()\n",
    "    for e in range(iterations):\n",
    "        for i in range(len(x)):\n",
    "            for j in range(len(x[i])):\n",
    "                wp[i] = w[i] - ((2*alpha)(x[i][j]*(np.dot(w,x[i])-y[i])))\n",
    "    return wp"
   ]
  },
  {
   "cell_type": "markdown",
   "metadata": {},
   "source": [
    "## SGD"
   ]
  },
  {
   "cell_type": "code",
   "execution_count": null,
   "metadata": {},
   "outputs": [],
   "source": [
    "def SGD(x,y,w,iterations,alpha):\n",
    "    wp = w.copy()\n",
    "    for e in range(iterations):\n",
    "        for i in range(len(x)):\n",
    "            for j in range(len(x[i])):\n",
    "                wp[i] = w[i] - ((2*alpha)(x[i][j]*(np.dot(w,x[i])-y[i])))\n",
    "    return wp"
   ]
  }
 ],
 "metadata": {
  "kernelspec": {
   "display_name": "Python 3",
   "language": "python",
   "name": "python3"
  },
  "language_info": {
   "codemirror_mode": {
    "name": "ipython",
    "version": 3
   },
   "file_extension": ".py",
   "mimetype": "text/x-python",
   "name": "python",
   "nbconvert_exporter": "python",
   "pygments_lexer": "ipython3",
   "version": "3.10.12"
  }
 },
 "nbformat": 4,
 "nbformat_minor": 2
}

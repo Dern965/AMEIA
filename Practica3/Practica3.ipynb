{
 "cells": [
  {
   "cell_type": "markdown",
   "metadata": {},
   "source": [
    "# Práctica 3: Regresión lineal con BGD\n",
    "***\n",
    "Rodriguez Nuñez Diego Eduardo"
   ]
  },
  {
   "cell_type": "code",
   "execution_count": 50,
   "metadata": {},
   "outputs": [],
   "source": [
    "import pandas as pd\n",
    "import numpy as np\n",
    "import matplotlib.pyplot as plt\n",
    "from sklearn.model_selection import train_test_split"
   ]
  },
  {
   "cell_type": "markdown",
   "metadata": {},
   "source": [
    "## Programa 1\n",
    "\n",
    "1. Sin utilizar las bibliotecas de scikit-learn para regresión lineal elabora un programa en python que implemente BGD monovariable\n",
    "\n",
    "2. Entrada:\n",
    "    * Archivo.csv\n",
    "    * Número de iteraciones\n",
    "    * Peso inicial\n",
    "    * alpha\n",
    "\n",
    "3. Divide casas.csv en 70% para entrenamiento y 30% para pruebas, con los parametros shuffle=True y random_state=0\n",
    "\n",
    "4. Salida:\n",
    "    * Peso en cada iteración calculado con el conjunto de entrenamiento\n",
    "    * y_test\n",
    "    * y_pred en cada predicción\n",
    "    * Error de predicción Σ𝐼=1:𝑛 |𝑦_𝑝𝑟𝑒𝑑𝑖 − 𝑦_𝑡𝑒𝑠𝑡|\n",
    "    * Gráfica 1:\n",
    "        * distribución de los datos de prueba\n",
    "        * y_pred en cada iteración\n",
    "    * Gráfica 2:\n",
    "        * Error en cada iteración\n"
   ]
  },
  {
   "cell_type": "code",
   "execution_count": 51,
   "metadata": {},
   "outputs": [
    {
     "data": {
      "text/html": [
       "<div>\n",
       "<style scoped>\n",
       "    .dataframe tbody tr th:only-of-type {\n",
       "        vertical-align: middle;\n",
       "    }\n",
       "\n",
       "    .dataframe tbody tr th {\n",
       "        vertical-align: top;\n",
       "    }\n",
       "\n",
       "    .dataframe thead th {\n",
       "        text-align: right;\n",
       "    }\n",
       "</style>\n",
       "<table border=\"1\" class=\"dataframe\">\n",
       "  <thead>\n",
       "    <tr style=\"text-align: right;\">\n",
       "      <th></th>\n",
       "      <th>X</th>\n",
       "      <th>Y</th>\n",
       "    </tr>\n",
       "  </thead>\n",
       "  <tbody>\n",
       "    <tr>\n",
       "      <th>0</th>\n",
       "      <td>440.0</td>\n",
       "      <td>1.01</td>\n",
       "    </tr>\n",
       "    <tr>\n",
       "      <th>1</th>\n",
       "      <td>616.0</td>\n",
       "      <td>1.42</td>\n",
       "    </tr>\n",
       "    <tr>\n",
       "      <th>2</th>\n",
       "      <td>381.0</td>\n",
       "      <td>0.88</td>\n",
       "    </tr>\n",
       "    <tr>\n",
       "      <th>3</th>\n",
       "      <td>963.0</td>\n",
       "      <td>2.21</td>\n",
       "    </tr>\n",
       "    <tr>\n",
       "      <th>4</th>\n",
       "      <td>431.0</td>\n",
       "      <td>0.99</td>\n",
       "    </tr>\n",
       "    <tr>\n",
       "      <th>5</th>\n",
       "      <td>255.0</td>\n",
       "      <td>0.59</td>\n",
       "    </tr>\n",
       "    <tr>\n",
       "      <th>6</th>\n",
       "      <td>594.0</td>\n",
       "      <td>1.37</td>\n",
       "    </tr>\n",
       "    <tr>\n",
       "      <th>7</th>\n",
       "      <td>625.0</td>\n",
       "      <td>1.44</td>\n",
       "    </tr>\n",
       "    <tr>\n",
       "      <th>8</th>\n",
       "      <td>708.0</td>\n",
       "      <td>1.63</td>\n",
       "    </tr>\n",
       "    <tr>\n",
       "      <th>9</th>\n",
       "      <td>468.0</td>\n",
       "      <td>1.08</td>\n",
       "    </tr>\n",
       "  </tbody>\n",
       "</table>\n",
       "</div>"
      ],
      "text/plain": [
       "       X     Y\n",
       "0  440.0  1.01\n",
       "1  616.0  1.42\n",
       "2  381.0  0.88\n",
       "3  963.0  2.21\n",
       "4  431.0  0.99\n",
       "5  255.0  0.59\n",
       "6  594.0  1.37\n",
       "7  625.0  1.44\n",
       "8  708.0  1.63\n",
       "9  468.0  1.08"
      ]
     },
     "execution_count": 51,
     "metadata": {},
     "output_type": "execute_result"
    }
   ],
   "source": [
    "data = pd.read_csv('casas.csv')\n",
    "data.rename(columns={'Terreno (m2)':'X', 'Precio (MDP)':'Y'}, inplace=True)\n",
    "data"
   ]
  },
  {
   "cell_type": "code",
   "execution_count": 52,
   "metadata": {},
   "outputs": [
    {
     "data": {
      "text/plain": [
       "(array([[440.],\n",
       "        [616.],\n",
       "        [381.],\n",
       "        [963.],\n",
       "        [431.],\n",
       "        [255.],\n",
       "        [594.],\n",
       "        [625.],\n",
       "        [708.],\n",
       "        [468.]]),\n",
       " array([1.01, 1.42, 0.88, 2.21, 0.99, 0.59, 1.37, 1.44, 1.63, 1.08]))"
      ]
     },
     "execution_count": 52,
     "metadata": {},
     "output_type": "execute_result"
    }
   ],
   "source": [
    "x = data.drop('Y', axis=1).values\n",
    "y = data['Y'].values\n",
    "x,y"
   ]
  },
  {
   "cell_type": "code",
   "execution_count": 53,
   "metadata": {},
   "outputs": [],
   "source": [
    "x_train, x_test, y_train, y_test = train_test_split(x, y, test_size=0.3, random_state=0, shuffle=True)"
   ]
  },
  {
   "cell_type": "code",
   "execution_count": 68,
   "metadata": {},
   "outputs": [],
   "source": [
    "def CalcularError(y_test, y_pred):\n",
    "    return sum(abs((y_pred[i]-y_test[i]))for i in range(len(y_test)))\n",
    "\n",
    "def BGD_Mono(x,y,iterations,alpha,weight,x_test,y_test):\n",
    "    wi = 0\n",
    "    sumA = 0\n",
    "    for i in range(0,iterations):\n",
    "        for j in range(0,len(x)):\n",
    "            sumA += ((wi*x[j])-y[j])*x[j]\n",
    "        wi = wi - alpha*(2*sumA)\n",
    "        wi = wi - weight\n",
    "        weight = wi\n",
    "        print(f'Iteracion {i+1}: w = {weight}\\n')\n",
    "        y_pred = [weight * xi for xi in x_test]\n",
    "        print(f'Prediccion : {y_pred}')\n",
    "        error = CalcularError(y_test, y_pred)\n",
    "        print(f'Error = {error}\\n')\n",
    "    print(f'Y_test {y_test}')"
   ]
  },
  {
   "cell_type": "code",
   "execution_count": 55,
   "metadata": {},
   "outputs": [],
   "source": [
    "alpha = 0.00000007\n",
    "iterations = 4\n",
    "weight = 0.0"
   ]
  },
  {
   "cell_type": "code",
   "execution_count": 69,
   "metadata": {},
   "outputs": [
    {
     "name": "stdout",
     "output_type": "stream",
     "text": [
      "Iteracion 1: w = [0.00081438]\n",
      "\n",
      "Prediccion : [array([0.31027985]), array([0.57658302]), array([0.35099899])]\n",
      "Error = [2.26213814]\n",
      "\n",
      "Iteracion 2: w = [0.00134055]\n",
      "\n",
      "Prediccion : [array([0.51074827]), array([0.94910703]), array([0.57777561])]\n",
      "Error = [1.46236909]\n",
      "\n",
      "Iteracion 3: w = [0.0016805]\n",
      "\n",
      "Prediccion : [array([0.64026874]), array([1.18979073]), array([0.72429351])]\n",
      "Error = [0.94564702]\n",
      "\n",
      "Iteracion 4: w = [0.00190013]\n",
      "\n",
      "Prediccion : [array([0.7239505]), array([1.34529384]), array([0.81895713])]\n",
      "Error = [0.61179853]\n",
      "\n",
      "Y_test [0.88 1.63 0.99]\n"
     ]
    }
   ],
   "source": [
    "BGD_Mono(x_train,y_train,iterations,alpha,weight,x_test,y_test)"
   ]
  },
  {
   "cell_type": "code",
   "execution_count": null,
   "metadata": {},
   "outputs": [],
   "source": [
    "    "
   ]
  }
 ],
 "metadata": {
  "kernelspec": {
   "display_name": "Python 3",
   "language": "python",
   "name": "python3"
  },
  "language_info": {
   "codemirror_mode": {
    "name": "ipython",
    "version": 3
   },
   "file_extension": ".py",
   "mimetype": "text/x-python",
   "name": "python",
   "nbconvert_exporter": "python",
   "pygments_lexer": "ipython3",
   "version": "3.10.12"
  }
 },
 "nbformat": 4,
 "nbformat_minor": 2
}

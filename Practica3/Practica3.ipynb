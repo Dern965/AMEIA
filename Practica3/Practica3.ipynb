{
 "cells": [
  {
   "cell_type": "markdown",
   "metadata": {},
   "source": [
    "# Práctica 3: Regresión lineal con BGD\n",
    "***\n",
    "Rodriguez Nuñez Diego Eduardo"
   ]
  },
  {
   "cell_type": "code",
   "execution_count": 1,
   "metadata": {},
   "outputs": [],
   "source": [
    "import pandas as pd\n",
    "import numpy as np\n",
    "import matplotlib.pyplot as plt\n",
    "from sklearn.model_selection import train_test_split"
   ]
  },
  {
   "cell_type": "markdown",
   "metadata": {},
   "source": [
    "## Programa 1\n",
    "\n",
    "1. Sin utilizar las bibliotecas de scikit-learn para regresión lineal elabora un programa en python que implemente BGD monovariable\n",
    "\n",
    "2. Entrada:\n",
    "    * Archivo.csv\n",
    "    * Número de iteraciones\n",
    "    * Peso inicial\n",
    "    * alpha\n",
    "\n",
    "3. Divide casas.csv en 70% para entrenamiento y 30% para pruebas, con los parametros shuffle=True y random_state=0\n",
    "\n",
    "4. Salida:\n",
    "    * Peso en cada iteración calculado con el conjunto de entrenamiento\n",
    "    * y_test\n",
    "    * y_pred en cada predicción\n",
    "    * Error de predicción Σ𝐼=1:𝑛 |𝑦_𝑝𝑟𝑒𝑑𝑖 − 𝑦_𝑡𝑒𝑠𝑡|\n",
    "    * Gráfica 1:\n",
    "        * distribución de los datos de prueba\n",
    "        * y_pred en cada iteración\n",
    "    * Gráfica 2:\n",
    "        * Error en cada iteración\n"
   ]
  },
  {
   "cell_type": "code",
   "execution_count": 2,
   "metadata": {},
   "outputs": [
    {
     "data": {
      "text/html": [
       "<div>\n",
       "<style scoped>\n",
       "    .dataframe tbody tr th:only-of-type {\n",
       "        vertical-align: middle;\n",
       "    }\n",
       "\n",
       "    .dataframe tbody tr th {\n",
       "        vertical-align: top;\n",
       "    }\n",
       "\n",
       "    .dataframe thead th {\n",
       "        text-align: right;\n",
       "    }\n",
       "</style>\n",
       "<table border=\"1\" class=\"dataframe\">\n",
       "  <thead>\n",
       "    <tr style=\"text-align: right;\">\n",
       "      <th></th>\n",
       "      <th>X</th>\n",
       "      <th>Y</th>\n",
       "    </tr>\n",
       "  </thead>\n",
       "  <tbody>\n",
       "    <tr>\n",
       "      <th>0</th>\n",
       "      <td>440.0</td>\n",
       "      <td>1.01</td>\n",
       "    </tr>\n",
       "    <tr>\n",
       "      <th>1</th>\n",
       "      <td>616.0</td>\n",
       "      <td>1.42</td>\n",
       "    </tr>\n",
       "    <tr>\n",
       "      <th>2</th>\n",
       "      <td>381.0</td>\n",
       "      <td>0.88</td>\n",
       "    </tr>\n",
       "    <tr>\n",
       "      <th>3</th>\n",
       "      <td>963.0</td>\n",
       "      <td>2.21</td>\n",
       "    </tr>\n",
       "    <tr>\n",
       "      <th>4</th>\n",
       "      <td>431.0</td>\n",
       "      <td>0.99</td>\n",
       "    </tr>\n",
       "    <tr>\n",
       "      <th>5</th>\n",
       "      <td>255.0</td>\n",
       "      <td>0.59</td>\n",
       "    </tr>\n",
       "    <tr>\n",
       "      <th>6</th>\n",
       "      <td>594.0</td>\n",
       "      <td>1.37</td>\n",
       "    </tr>\n",
       "    <tr>\n",
       "      <th>7</th>\n",
       "      <td>625.0</td>\n",
       "      <td>1.44</td>\n",
       "    </tr>\n",
       "    <tr>\n",
       "      <th>8</th>\n",
       "      <td>708.0</td>\n",
       "      <td>1.63</td>\n",
       "    </tr>\n",
       "    <tr>\n",
       "      <th>9</th>\n",
       "      <td>468.0</td>\n",
       "      <td>1.08</td>\n",
       "    </tr>\n",
       "  </tbody>\n",
       "</table>\n",
       "</div>"
      ],
      "text/plain": [
       "       X     Y\n",
       "0  440.0  1.01\n",
       "1  616.0  1.42\n",
       "2  381.0  0.88\n",
       "3  963.0  2.21\n",
       "4  431.0  0.99\n",
       "5  255.0  0.59\n",
       "6  594.0  1.37\n",
       "7  625.0  1.44\n",
       "8  708.0  1.63\n",
       "9  468.0  1.08"
      ]
     },
     "execution_count": 2,
     "metadata": {},
     "output_type": "execute_result"
    }
   ],
   "source": [
    "data = pd.read_csv('casas.csv')\n",
    "data.rename(columns={'Terreno (m2)':'X', 'Precio (MDP)':'Y'}, inplace=True)\n",
    "data"
   ]
  },
  {
   "cell_type": "code",
   "execution_count": 3,
   "metadata": {},
   "outputs": [
    {
     "data": {
      "text/plain": [
       "(array([[440.],\n",
       "        [616.],\n",
       "        [381.],\n",
       "        [963.],\n",
       "        [431.],\n",
       "        [255.],\n",
       "        [594.],\n",
       "        [625.],\n",
       "        [708.],\n",
       "        [468.]]),\n",
       " array([1.01, 1.42, 0.88, 2.21, 0.99, 0.59, 1.37, 1.44, 1.63, 1.08]))"
      ]
     },
     "execution_count": 3,
     "metadata": {},
     "output_type": "execute_result"
    }
   ],
   "source": [
    "x = data.drop('Y', axis=1).values\n",
    "y = data['Y'].values\n",
    "x,y"
   ]
  },
  {
   "cell_type": "code",
   "execution_count": 4,
   "metadata": {},
   "outputs": [],
   "source": [
    "x_train, x_test, y_train, y_test = train_test_split(x, y, test_size=0.3, random_state=0, shuffle=True)"
   ]
  },
  {
   "cell_type": "code",
   "execution_count": 5,
   "metadata": {},
   "outputs": [],
   "source": [
    "def CalcularError(y_test, y_pred):\n",
    "    return sum(abs((y_pred[i]-y_test[i]))for i in range(len(y_test)))\n",
    "\n",
    "def BGD_Mono(x,y,iterations,alpha,weight,x_test,y_test):\n",
    "    wi = 0\n",
    "    sumA = 0\n",
    "    for i in range(0,iterations):\n",
    "        for j in range(0,len(x)):\n",
    "            sumA += ((wi*x[j])-y[j])*x[j]\n",
    "        wi = wi - alpha*(2*sumA)\n",
    "        wi = wi - weight\n",
    "        weight = wi\n",
    "        print(f'Iteracion {i+1}: w = {weight}\\n')\n",
    "        y_pred = [weight * xi for xi in x_test]\n",
    "        print(f'Prediccion : {y_pred}')\n",
    "        error = CalcularError(y_test, y_pred)\n",
    "        print(f'Error = {error}\\n')\n",
    "    print(f'Y_test {y_test}')"
   ]
  },
  {
   "cell_type": "code",
   "execution_count": 6,
   "metadata": {},
   "outputs": [],
   "source": [
    "alpha = 0.00000007\n",
    "iterations = 4\n",
    "weight = 0.0"
   ]
  },
  {
   "cell_type": "code",
   "execution_count": 7,
   "metadata": {},
   "outputs": [
    {
     "name": "stdout",
     "output_type": "stream",
     "text": [
      "Iteracion 1: w = [0.00081438]\n",
      "\n",
      "Prediccion : [array([0.31027985]), array([0.57658302]), array([0.35099899])]\n",
      "Error = [2.26213814]\n",
      "\n",
      "Iteracion 2: w = [0.00134055]\n",
      "\n",
      "Prediccion : [array([0.51074827]), array([0.94910703]), array([0.57777561])]\n",
      "Error = [1.46236909]\n",
      "\n",
      "Iteracion 3: w = [0.0016805]\n",
      "\n",
      "Prediccion : [array([0.64026874]), array([1.18979073]), array([0.72429351])]\n",
      "Error = [0.94564702]\n",
      "\n",
      "Iteracion 4: w = [0.00190013]\n",
      "\n",
      "Prediccion : [array([0.7239505]), array([1.34529384]), array([0.81895713])]\n",
      "Error = [0.61179853]\n",
      "\n",
      "Y_test [0.88 1.63 0.99]\n"
     ]
    }
   ],
   "source": [
    "BGD_Mono(x_train,y_train,iterations,alpha,weight,x_test,y_test)"
   ]
  },
  {
   "cell_type": "markdown",
   "metadata": {},
   "source": [
    "## Programa 2\n",
    "\n",
    "1. Sin utilizar las bibliotecas de scikit-learn para regresión lineal elabora un programa en python que implemente BGD multivariable\n",
    "\n",
    "2. Entrada:\n",
    "    * Dataset_multivariable.csv\n",
    "    * Número de iteraciones\n",
    "    * Peso inicial\n",
    "    * alpha\n",
    "\n",
    "3. Divide Dataset_multivariable .csv en 70% para entrenamiento y 30% para pruebas, con los parametros shuffle=True y random_state=0\n",
    "\n",
    "4. Salida:\n",
    "    * Peso en cada iteración calculado con el conjunto de entrenamiento\n",
    "    * y_test\n",
    "    * y_pred en cada predicción\n",
    "    * Error de predicción Σi=1:𝑛 |𝑦_𝑝𝑟𝑒𝑑𝑖 − 𝑦_𝑡𝑒𝑠𝑡|\n",
    "    * Gráfica 1:\n",
    "        * Error de distribución Σi=1:𝑛 |𝑦_𝑝𝑟𝑒𝑑𝑖 − 𝑦_𝑡𝑒𝑠𝑡𝑖| de cada iteración"
   ]
  },
  {
   "cell_type": "code",
   "execution_count": 29,
   "metadata": {},
   "outputs": [],
   "source": [
    "def BGD_Multi(x,y,iterations,alpha,weight,x_test,y_test):\n",
    "    w = [0.0]*len(x[0])\n",
    "    for k in range(iterations):\n",
    "        gradient = [0.0]*len(weight)\n",
    "        for i in range(len(x)):\n",
    "            prediction= np.dot(x[i],weight)\n",
    "            for j in range(len(weight)):\n",
    "                gradient[j] += 2 * (prediction - y[i]) * x[i][j]\n",
    "        for j in range(len(weight)):\n",
    "            w[j] -= alpha * gradient[j]\n",
    "        print(f'Iteracion {k+1}: w = {w}')\n",
    "        y_pred = [np.dot(xi,w) for xi in x_test]\n",
    "        print(f'Prediccion : {y_pred}')\n",
    "        error = CalcularError(y_test, y_pred)\n",
    "        print(f'Error = {error}\\n')\n",
    "    print(f'Y_test {y_test}')\n",
    "    "
   ]
  },
  {
   "cell_type": "code",
   "execution_count": 8,
   "metadata": {},
   "outputs": [
    {
     "data": {
      "text/html": [
       "<div>\n",
       "<style scoped>\n",
       "    .dataframe tbody tr th:only-of-type {\n",
       "        vertical-align: middle;\n",
       "    }\n",
       "\n",
       "    .dataframe tbody tr th {\n",
       "        vertical-align: top;\n",
       "    }\n",
       "\n",
       "    .dataframe thead th {\n",
       "        text-align: right;\n",
       "    }\n",
       "</style>\n",
       "<table border=\"1\" class=\"dataframe\">\n",
       "  <thead>\n",
       "    <tr style=\"text-align: right;\">\n",
       "      <th></th>\n",
       "      <th>x1</th>\n",
       "      <th>x2</th>\n",
       "      <th>x3</th>\n",
       "      <th>x4</th>\n",
       "      <th>x5</th>\n",
       "      <th>y</th>\n",
       "    </tr>\n",
       "  </thead>\n",
       "  <tbody>\n",
       "    <tr>\n",
       "      <th>0</th>\n",
       "      <td>1.0</td>\n",
       "      <td>0.4</td>\n",
       "      <td>-12.0</td>\n",
       "      <td>12.0</td>\n",
       "      <td>10.2</td>\n",
       "      <td>11.6</td>\n",
       "    </tr>\n",
       "    <tr>\n",
       "      <th>1</th>\n",
       "      <td>1.0</td>\n",
       "      <td>0.6</td>\n",
       "      <td>-15.0</td>\n",
       "      <td>16.0</td>\n",
       "      <td>11.9</td>\n",
       "      <td>14.5</td>\n",
       "    </tr>\n",
       "    <tr>\n",
       "      <th>2</th>\n",
       "      <td>1.0</td>\n",
       "      <td>0.8</td>\n",
       "      <td>-18.0</td>\n",
       "      <td>20.0</td>\n",
       "      <td>13.6</td>\n",
       "      <td>17.4</td>\n",
       "    </tr>\n",
       "    <tr>\n",
       "      <th>3</th>\n",
       "      <td>1.0</td>\n",
       "      <td>1.0</td>\n",
       "      <td>-21.0</td>\n",
       "      <td>24.0</td>\n",
       "      <td>15.3</td>\n",
       "      <td>20.3</td>\n",
       "    </tr>\n",
       "    <tr>\n",
       "      <th>4</th>\n",
       "      <td>1.0</td>\n",
       "      <td>1.2</td>\n",
       "      <td>-24.0</td>\n",
       "      <td>28.0</td>\n",
       "      <td>17.0</td>\n",
       "      <td>23.2</td>\n",
       "    </tr>\n",
       "    <tr>\n",
       "      <th>5</th>\n",
       "      <td>1.0</td>\n",
       "      <td>1.4</td>\n",
       "      <td>-27.0</td>\n",
       "      <td>32.0</td>\n",
       "      <td>18.7</td>\n",
       "      <td>26.1</td>\n",
       "    </tr>\n",
       "    <tr>\n",
       "      <th>6</th>\n",
       "      <td>1.0</td>\n",
       "      <td>1.6</td>\n",
       "      <td>-30.0</td>\n",
       "      <td>36.0</td>\n",
       "      <td>20.4</td>\n",
       "      <td>29.0</td>\n",
       "    </tr>\n",
       "    <tr>\n",
       "      <th>7</th>\n",
       "      <td>1.0</td>\n",
       "      <td>1.8</td>\n",
       "      <td>-33.0</td>\n",
       "      <td>40.0</td>\n",
       "      <td>22.1</td>\n",
       "      <td>31.9</td>\n",
       "    </tr>\n",
       "    <tr>\n",
       "      <th>8</th>\n",
       "      <td>1.0</td>\n",
       "      <td>2.0</td>\n",
       "      <td>-36.0</td>\n",
       "      <td>44.0</td>\n",
       "      <td>23.8</td>\n",
       "      <td>34.8</td>\n",
       "    </tr>\n",
       "    <tr>\n",
       "      <th>9</th>\n",
       "      <td>1.0</td>\n",
       "      <td>2.2</td>\n",
       "      <td>-39.0</td>\n",
       "      <td>48.0</td>\n",
       "      <td>25.5</td>\n",
       "      <td>37.7</td>\n",
       "    </tr>\n",
       "  </tbody>\n",
       "</table>\n",
       "</div>"
      ],
      "text/plain": [
       "    x1   x2    x3    x4    x5     y\n",
       "0  1.0  0.4 -12.0  12.0  10.2  11.6\n",
       "1  1.0  0.6 -15.0  16.0  11.9  14.5\n",
       "2  1.0  0.8 -18.0  20.0  13.6  17.4\n",
       "3  1.0  1.0 -21.0  24.0  15.3  20.3\n",
       "4  1.0  1.2 -24.0  28.0  17.0  23.2\n",
       "5  1.0  1.4 -27.0  32.0  18.7  26.1\n",
       "6  1.0  1.6 -30.0  36.0  20.4  29.0\n",
       "7  1.0  1.8 -33.0  40.0  22.1  31.9\n",
       "8  1.0  2.0 -36.0  44.0  23.8  34.8\n",
       "9  1.0  2.2 -39.0  48.0  25.5  37.7"
      ]
     },
     "execution_count": 8,
     "metadata": {},
     "output_type": "execute_result"
    }
   ],
   "source": [
    "data2 = pd.read_csv('Dataset_multivariable.csv')\n",
    "data2"
   ]
  },
  {
   "cell_type": "code",
   "execution_count": 16,
   "metadata": {},
   "outputs": [
    {
     "data": {
      "text/plain": [
       "(array([[  1. ,   0.4, -12. ,  12. ,  10.2],\n",
       "        [  1. ,   0.6, -15. ,  16. ,  11.9],\n",
       "        [  1. ,   0.8, -18. ,  20. ,  13.6],\n",
       "        [  1. ,   1. , -21. ,  24. ,  15.3],\n",
       "        [  1. ,   1.2, -24. ,  28. ,  17. ],\n",
       "        [  1. ,   1.4, -27. ,  32. ,  18.7],\n",
       "        [  1. ,   1.6, -30. ,  36. ,  20.4],\n",
       "        [  1. ,   1.8, -33. ,  40. ,  22.1],\n",
       "        [  1. ,   2. , -36. ,  44. ,  23.8],\n",
       "        [  1. ,   2.2, -39. ,  48. ,  25.5]]),\n",
       " array([11.6, 14.5, 17.4, 20.3, 23.2, 26.1, 29. , 31.9, 34.8, 37.7]))"
      ]
     },
     "execution_count": 16,
     "metadata": {},
     "output_type": "execute_result"
    }
   ],
   "source": [
    "x = data2.drop('y', axis=1).values\n",
    "y = data2['y'].values\n",
    "x,y"
   ]
  },
  {
   "cell_type": "code",
   "execution_count": 10,
   "metadata": {},
   "outputs": [],
   "source": [
    "x_train, x_test, y_train, y_test = train_test_split(x, y, test_size=0.3, random_state=0, shuffle=True)"
   ]
  },
  {
   "cell_type": "code",
   "execution_count": 11,
   "metadata": {},
   "outputs": [],
   "source": [
    "alpha = 0.000006\n",
    "iterations = 4\n",
    "weight = [0.0,0.0,0.0,0.0,0.0]"
   ]
  },
  {
   "cell_type": "code",
   "execution_count": 30,
   "metadata": {},
   "outputs": [
    {
     "name": "stdout",
     "output_type": "stream",
     "text": [
      "Iteracion 1: w = [0.0020532, 0.0030832800000000007, -0.0585684, 0.0698784, 0.040169640000000006]\n",
      "Prediccion : [3.002626128, 6.147369192, 4.050873816]\n",
      "Error = 62.199130864\n",
      "\n",
      "Iteracion 2: w = [0.0041064, 0.0061665600000000015, -0.1171368, 0.1397568, 0.08033928000000001]\n",
      "Prediccion : [6.005252256, 12.294738384, 8.101747632]\n",
      "Error = 48.998261727999996\n",
      "\n",
      "Iteracion 3: w = [0.0061595999999999995, 0.009249840000000002, -0.1757052, 0.20963519999999997, 0.12050892000000002]\n",
      "Prediccion : [9.007878384, 18.442107575999998, 12.152621447999998]\n",
      "Error = 35.797392591999994\n",
      "\n",
      "Iteracion 4: w = [0.0082128, 0.012333120000000003, -0.2342736, 0.2795136, 0.16067856000000003]\n",
      "Prediccion : [12.010504512, 24.589476768, 16.203495264]\n",
      "Error = 22.596523455999993\n",
      "\n",
      "Y_test [17.4 34.8 23.2]\n"
     ]
    }
   ],
   "source": [
    "BGD_Multi(x_train,y_train,iterations,alpha,weight,x_test,y_test)"
   ]
  },
  {
   "cell_type": "code",
   "execution_count": null,
   "metadata": {},
   "outputs": [],
   "source": []
  }
 ],
 "metadata": {
  "kernelspec": {
   "display_name": "Python 3",
   "language": "python",
   "name": "python3"
  },
  "language_info": {
   "codemirror_mode": {
    "name": "ipython",
    "version": 3
   },
   "file_extension": ".py",
   "mimetype": "text/x-python",
   "name": "python",
   "nbconvert_exporter": "python",
   "pygments_lexer": "ipython3",
   "version": "3.10.12"
  }
 },
 "nbformat": 4,
 "nbformat_minor": 2
}

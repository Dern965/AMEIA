{
 "cells": [
  {
   "cell_type": "markdown",
   "metadata": {},
   "source": [
    "# Práctica 3: Regresión lineal con BGD\n",
    "***\n",
    "Rodriguez Nuñez Diego Eduardo"
   ]
  },
  {
   "cell_type": "code",
   "execution_count": 5,
   "metadata": {},
   "outputs": [],
   "source": [
    "import pandas as pd\n",
    "import numpy as np\n",
    "import matplotlib.pyplot as plt\n",
    "from sklearn.model_selection import train_test_split"
   ]
  },
  {
   "cell_type": "markdown",
   "metadata": {},
   "source": [
    "## Programa 1\n",
    "\n",
    "1. Sin utilizar las bibliotecas de scikit-learn para regresión lineal elabora un programa en python que implemente BGD monovariable\n",
    "\n",
    "2. Entrada:\n",
    "    * Archivo.csv\n",
    "    * Número de iteraciones\n",
    "    * Peso inicial\n",
    "    * alpha\n",
    "\n",
    "3. Divide casas.csv en 70% para entrenamiento y 30% para pruebas, con los parametros shuffle=True y random_state=0\n",
    "\n",
    "4. Salida:\n",
    "    * Peso en cada iteración calculado con el conjunto de entrenamiento\n",
    "    * y_test\n",
    "    * y_pred en cada predicción\n",
    "    * Error de predicción Σ𝐼=1:𝑛 |𝑦_𝑝𝑟𝑒𝑑𝑖 − 𝑦_𝑡𝑒𝑠𝑡|\n",
    "    * Gráfica 1:\n",
    "        * distribución de los datos de prueba\n",
    "        * y_pred en cada iteración\n",
    "    * Gráfica 2:\n",
    "        * Error en cada iteración\n"
   ]
  },
  {
   "cell_type": "code",
   "execution_count": 6,
   "metadata": {},
   "outputs": [],
   "source": [
    "def CalcularError(y_pred,y_test):\n",
    "    return np.sum(np.abs(y_pred-y_test))\n",
    "\n",
    "def BGD_Mono(x_train,y_train,iterations,alpha,weight):\n",
    "    wi = 0\n",
    "    sumA = 0\n",
    "    for i in range(0,iterations):\n",
    "        for j in range(0,len(x_train)):\n",
    "            sumA += ((wi*(x_train[j]))-y_train[j])*x_train[j]\n",
    "        wi = wi - alpha*(2*sumA)\n",
    "        print(\"Iteracion: \", i,\"Peso: \",wi)"
   ]
  },
  {
   "cell_type": "code",
   "execution_count": 7,
   "metadata": {},
   "outputs": [
    {
     "data": {
      "text/html": [
       "<div>\n",
       "<style scoped>\n",
       "    .dataframe tbody tr th:only-of-type {\n",
       "        vertical-align: middle;\n",
       "    }\n",
       "\n",
       "    .dataframe tbody tr th {\n",
       "        vertical-align: top;\n",
       "    }\n",
       "\n",
       "    .dataframe thead th {\n",
       "        text-align: right;\n",
       "    }\n",
       "</style>\n",
       "<table border=\"1\" class=\"dataframe\">\n",
       "  <thead>\n",
       "    <tr style=\"text-align: right;\">\n",
       "      <th></th>\n",
       "      <th>Terreno (m2)</th>\n",
       "      <th>Precio (MDP)</th>\n",
       "    </tr>\n",
       "  </thead>\n",
       "  <tbody>\n",
       "    <tr>\n",
       "      <th>0</th>\n",
       "      <td>440.0</td>\n",
       "      <td>1.01</td>\n",
       "    </tr>\n",
       "    <tr>\n",
       "      <th>1</th>\n",
       "      <td>616.0</td>\n",
       "      <td>1.42</td>\n",
       "    </tr>\n",
       "    <tr>\n",
       "      <th>2</th>\n",
       "      <td>381.0</td>\n",
       "      <td>0.88</td>\n",
       "    </tr>\n",
       "    <tr>\n",
       "      <th>3</th>\n",
       "      <td>963.0</td>\n",
       "      <td>2.21</td>\n",
       "    </tr>\n",
       "    <tr>\n",
       "      <th>4</th>\n",
       "      <td>431.0</td>\n",
       "      <td>0.99</td>\n",
       "    </tr>\n",
       "    <tr>\n",
       "      <th>5</th>\n",
       "      <td>255.0</td>\n",
       "      <td>0.59</td>\n",
       "    </tr>\n",
       "    <tr>\n",
       "      <th>6</th>\n",
       "      <td>594.0</td>\n",
       "      <td>1.37</td>\n",
       "    </tr>\n",
       "    <tr>\n",
       "      <th>7</th>\n",
       "      <td>625.0</td>\n",
       "      <td>1.44</td>\n",
       "    </tr>\n",
       "    <tr>\n",
       "      <th>8</th>\n",
       "      <td>708.0</td>\n",
       "      <td>1.63</td>\n",
       "    </tr>\n",
       "    <tr>\n",
       "      <th>9</th>\n",
       "      <td>468.0</td>\n",
       "      <td>1.08</td>\n",
       "    </tr>\n",
       "  </tbody>\n",
       "</table>\n",
       "</div>"
      ],
      "text/plain": [
       "   Terreno (m2)  Precio (MDP)\n",
       "0         440.0          1.01\n",
       "1         616.0          1.42\n",
       "2         381.0          0.88\n",
       "3         963.0          2.21\n",
       "4         431.0          0.99\n",
       "5         255.0          0.59\n",
       "6         594.0          1.37\n",
       "7         625.0          1.44\n",
       "8         708.0          1.63\n",
       "9         468.0          1.08"
      ]
     },
     "execution_count": 7,
     "metadata": {},
     "output_type": "execute_result"
    }
   ],
   "source": [
    "data = pd.read_csv('casas.csv')\n",
    "data"
   ]
  },
  {
   "cell_type": "code",
   "execution_count": 8,
   "metadata": {},
   "outputs": [],
   "source": [
    "\n",
    "iteration = int(input('Ingrese el número de iteraciones: '))\n",
    "w0 = float(input('Ingrese el valor de w0: '))\n",
    "alpha = float(input('Ingrese el valor de alpha: '))"
   ]
  },
  {
   "cell_type": "code",
   "execution_count": 9,
   "metadata": {},
   "outputs": [
    {
     "data": {
      "text/plain": [
       "(array([[440.],\n",
       "        [616.],\n",
       "        [381.],\n",
       "        [963.],\n",
       "        [431.],\n",
       "        [255.],\n",
       "        [594.],\n",
       "        [625.],\n",
       "        [708.],\n",
       "        [468.]]),\n",
       " array([1.01, 1.42, 0.88, 2.21, 0.99, 0.59, 1.37, 1.44, 1.63, 1.08]))"
      ]
     },
     "execution_count": 9,
     "metadata": {},
     "output_type": "execute_result"
    }
   ],
   "source": [
    "x = data.drop('Precio (MDP)',axis=1).values\n",
    "y = data['Precio (MDP)'].values\n",
    "x,y"
   ]
  },
  {
   "cell_type": "code",
   "execution_count": 10,
   "metadata": {},
   "outputs": [],
   "source": [
    "x_train,x_test,y_train,y_test = train_test_split(x,y,test_size=0.7,random_state=0,shuffle=True)"
   ]
  },
  {
   "cell_type": "code",
   "execution_count": 11,
   "metadata": {},
   "outputs": [
    {
     "name": "stdout",
     "output_type": "stream",
     "text": [
      "Iteracion:  0 Peso:  [5446.16]\n",
      "Iteracion:  1 Peso:  [-1.29182098e+10]\n",
      "Iteracion:  2 Peso:  [3.06418129e+16]\n",
      "Iteracion:  3 Peso:  [-7.26819511e+22]\n",
      "Iteracion:  4 Peso:  [1.7240057e+29]\n",
      "Iteracion:  5 Peso:  [-4.0893174e+35]\n",
      "Iteracion:  6 Peso:  [9.69980361e+41]\n",
      "Iteracion:  7 Peso:  [-2.30077984e+48]\n",
      "Iteracion:  8 Peso:  [5.45741756e+54]\n",
      "Iteracion:  9 Peso:  [-1.29449181e+61]\n"
     ]
    }
   ],
   "source": [
    "BGD_Mono(x_train,y_train,iteration,alpha,w0)"
   ]
  },
  {
   "cell_type": "markdown",
   "metadata": {},
   "source": [
    "## Programa 2\n",
    "\n",
    "1. Sin utilizar las bibliotecas de scikit-learn para regresión lineal elabora un programa en python que implemente BGD multivariable\n",
    "\n",
    "2. Entrada:\n",
    "    * Dataset_multivariable.csv\n",
    "    * Número de iteraciones\n",
    "    * Peso inicial\n",
    "    * alpha\n",
    "\n",
    "3. Divide Dataset_multivariable .csv en 70% para entrenamiento y 30% para pruebas, con los parametros shuffle=True y random_state=0\n",
    "\n",
    "4. Salida:\n",
    "    * Peso en cada iteración calculado con el conjunto de entrenamiento\n",
    "    * y_test\n",
    "    * y_pred en cada predicción\n",
    "    * Error de predicción Σi=1:𝑛 |𝑦_𝑝𝑟𝑒𝑑𝑖 − 𝑦_𝑡𝑒𝑠𝑡|\n",
    "    * Gráfica 1:\n",
    "        * Error de distribución Σi=1:𝑛 |𝑦_𝑝𝑟𝑒𝑑𝑖 − 𝑦_𝑡𝑒𝑠𝑡𝑖| de cada iteración"
   ]
  },
  {
   "cell_type": "code",
   "execution_count": 12,
   "metadata": {},
   "outputs": [
    {
     "name": "stderr",
     "output_type": "stream",
     "text": [
      "C:\\Users\\dern9\\AppData\\Local\\Temp\\ipykernel_17848\\3616557373.py:11: RuntimeWarning: invalid value encountered in subtract\n",
      "  weight -= alpha * gradient\n"
     ]
    },
    {
     "data": {
      "image/png": "[encoded data removed]",
      "text/plain": [
       "<Figure size 1000x600 with 1 Axes>"
      ]
     },
     "metadata": {},
     "output_type": "display_data"
    },
    {
     "name": "stdout",
     "output_type": "stream",
     "text": [
      "Peso final: [nan nan nan nan nan nan]\n",
      "Error de predicción final: nan\n"
     ]
    }
   ],
   "source": [
    "# Función para calcular el error\n",
    "def calculate_error(y_pred, y_test):\n",
    "    return np.sum(np.abs(y_pred - y_test))\n",
    "\n",
    "# Función para realizar una iteración de BGD\n",
    "def gradient_descent_step(X_train, y_train, weight, alpha):\n",
    "    n = len(y_train)\n",
    "    y_pred = np.dot(X_train, weight)\n",
    "    error = calculate_error(y_pred, y_train)\n",
    "    gradient = (1/n) * np.dot(X_train.T, (y_pred - y_train))\n",
    "    weight -= alpha * gradient\n",
    "    return weight, error, y_pred\n",
    "\n",
    "# Función para dividir el conjunto de datos en entrenamiento y prueba\n",
    "def train_test_split(data, train_size):\n",
    "    train_data = data.sample(frac=train_size, random_state=0)\n",
    "    test_data = data.drop(train_data.index)\n",
    "    return train_data, test_data\n",
    "\n",
    "# Lectura del archivo CSV\n",
    "data = pd.read_csv('Dataset_multivariable.csv')\n",
    "\n",
    "# División del conjunto de datos en entrenamiento y prueba\n",
    "train_data, test_data = train_test_split(data, 0.7)\n",
    "\n",
    "# Extracción de características y etiquetas para entrenamiento y prueba\n",
    "X_train = train_data.drop(columns=['y']).values\n",
    "y_train = train_data['y'].values\n",
    "X_test = test_data.drop(columns=['y']).values\n",
    "y_test = test_data['y'].values\n",
    "\n",
    "# Agregar una columna de unos a X para el término de sesgo (intercept)\n",
    "X_train = np.column_stack((np.ones(len(X_train)), X_train))\n",
    "X_test = np.column_stack((np.ones(len(X_test)), X_test))\n",
    "\n",
    "# Parámetros\n",
    "num_iterations = 1000# Número de iteraciones\n",
    "initial_weight = np.zeros(X_train.shape[1])  # Peso inicial\n",
    "alpha = 0.01 # Tasa de aprendizaje\n",
    "\n",
    "# Inicialización de listas para almacenar resultados\n",
    "weights_history = []\n",
    "errors_history = []\n",
    "y_pred_history = []\n",
    "\n",
    "# Inicialización del peso\n",
    "weight = initial_weight\n",
    "\n",
    "# BGD\n",
    "for _ in range(num_iterations):\n",
    "    weight, error, y_pred = gradient_descent_step(X_train, y_train, weight, alpha)\n",
    "    weights_history.append(weight)\n",
    "    errors_history.append(error)\n",
    "    y_pred_history.append(y_pred)\n",
    "\n",
    "# Gráfica 1: Error de distribución de cada iteración\n",
    "plt.figure(figsize=(10, 6))\n",
    "plt.plot(range(num_iterations), errors_history, color='blue')\n",
    "plt.xlabel('Iteración')\n",
    "plt.ylabel('Error de predicción')\n",
    "plt.title('Error de distribución de cada iteración')\n",
    "plt.show()\n",
    "\n",
    "# Resultados finales\n",
    "final_weight = weights_history[-1]\n",
    "final_y_pred = y_pred_history[-1]\n",
    "final_error = errors_history[-1]\n",
    "print(\"Peso final:\", final_weight)\n",
    "print(\"Error de predicción final:\", final_error)"
   ]
  }
 ],
 "metadata": {
  "kernelspec": {
   "display_name": "Python 3",
   "language": "python",
   "name": "python3"
  },
  "language_info": {
   "codemirror_mode": {
    "name": "ipython",
    "version": 3
   },
   "file_extension": ".py",
   "mimetype": "text/x-python",
   "name": "python",
   "nbconvert_exporter": "python",
   "pygments_lexer": "ipython3",
   "version": "3.12.1"
  }
 },
 "nbformat": 4,
 "nbformat_minor": 2
}

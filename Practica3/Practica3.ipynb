{
 "cells": [
  {
   "cell_type": "markdown",
   "metadata": {},
   "source": [
    "# Práctica 3: Regresión lineal con BGD\n",
    "***\n",
    "Rodriguez Nuñez Diego Eduardo"
   ]
  },
  {
   "cell_type": "code",
   "execution_count": 1,
   "metadata": {},
   "outputs": [],
   "source": [
    "import pandas as pd\n",
    "import numpy as np\n",
    "import matplotlib.pyplot as plt\n",
    "from sklearn.model_selection import train_test_split"
   ]
  },
  {
   "cell_type": "markdown",
   "metadata": {},
   "source": [
    "## Programa 1\n",
    "\n",
    "1. Sin utilizar las bibliotecas de scikit-learn para regresión lineal elabora un programa en python que implemente BGD monovariable\n",
    "\n",
    "2. Entrada:\n",
    "    * Archivo.csv\n",
    "    * Número de iteraciones\n",
    "    * Peso inicial\n",
    "    * alpha\n",
    "\n",
    "3. Divide casas.csv en 70% para entrenamiento y 30% para pruebas, con los parametros shuffle=True y random_state=0\n",
    "\n",
    "4. Salida:\n",
    "    * Peso en cada iteración calculado con el conjunto de entrenamiento\n",
    "    * y_test\n",
    "    * y_pred en cada predicción\n",
    "    * Error de predicción Σ𝐼=1:𝑛 |𝑦_𝑝𝑟𝑒𝑑𝑖 − 𝑦_𝑡𝑒𝑠𝑡|\n",
    "    * Gráfica 1:\n",
    "        * distribución de los datos de prueba\n",
    "        * y_pred en cada iteración\n",
    "    * Gráfica 2:\n",
    "        * Error en cada iteración\n"
   ]
  },
  {
   "cell_type": "code",
   "execution_count": 2,
   "metadata": {},
   "outputs": [
    {
     "data": {
      "text/html": [
       "<div>\n",
       "<style scoped>\n",
       "    .dataframe tbody tr th:only-of-type {\n",
       "        vertical-align: middle;\n",
       "    }\n",
       "\n",
       "    .dataframe tbody tr th {\n",
       "        vertical-align: top;\n",
       "    }\n",
       "\n",
       "    .dataframe thead th {\n",
       "        text-align: right;\n",
       "    }\n",
       "</style>\n",
       "<table border=\"1\" class=\"dataframe\">\n",
       "  <thead>\n",
       "    <tr style=\"text-align: right;\">\n",
       "      <th></th>\n",
       "      <th>X</th>\n",
       "      <th>Y</th>\n",
       "    </tr>\n",
       "  </thead>\n",
       "  <tbody>\n",
       "    <tr>\n",
       "      <th>0</th>\n",
       "      <td>440.0</td>\n",
       "      <td>1.01</td>\n",
       "    </tr>\n",
       "    <tr>\n",
       "      <th>1</th>\n",
       "      <td>616.0</td>\n",
       "      <td>1.42</td>\n",
       "    </tr>\n",
       "    <tr>\n",
       "      <th>2</th>\n",
       "      <td>381.0</td>\n",
       "      <td>0.88</td>\n",
       "    </tr>\n",
       "    <tr>\n",
       "      <th>3</th>\n",
       "      <td>963.0</td>\n",
       "      <td>2.21</td>\n",
       "    </tr>\n",
       "    <tr>\n",
       "      <th>4</th>\n",
       "      <td>431.0</td>\n",
       "      <td>0.99</td>\n",
       "    </tr>\n",
       "    <tr>\n",
       "      <th>5</th>\n",
       "      <td>255.0</td>\n",
       "      <td>0.59</td>\n",
       "    </tr>\n",
       "    <tr>\n",
       "      <th>6</th>\n",
       "      <td>594.0</td>\n",
       "      <td>1.37</td>\n",
       "    </tr>\n",
       "    <tr>\n",
       "      <th>7</th>\n",
       "      <td>625.0</td>\n",
       "      <td>1.44</td>\n",
       "    </tr>\n",
       "    <tr>\n",
       "      <th>8</th>\n",
       "      <td>708.0</td>\n",
       "      <td>1.63</td>\n",
       "    </tr>\n",
       "    <tr>\n",
       "      <th>9</th>\n",
       "      <td>468.0</td>\n",
       "      <td>1.08</td>\n",
       "    </tr>\n",
       "  </tbody>\n",
       "</table>\n",
       "</div>"
      ],
      "text/plain": [
       "       X     Y\n",
       "0  440.0  1.01\n",
       "1  616.0  1.42\n",
       "2  381.0  0.88\n",
       "3  963.0  2.21\n",
       "4  431.0  0.99\n",
       "5  255.0  0.59\n",
       "6  594.0  1.37\n",
       "7  625.0  1.44\n",
       "8  708.0  1.63\n",
       "9  468.0  1.08"
      ]
     },
     "execution_count": 2,
     "metadata": {},
     "output_type": "execute_result"
    }
   ],
   "source": [
    "data = pd.read_csv('casas.csv')\n",
    "data.rename(columns={'Terreno (m2)':'X', 'Precio (MDP)':'Y'}, inplace=True)\n",
    "data"
   ]
  },
  {
   "cell_type": "code",
   "execution_count": 3,
   "metadata": {},
   "outputs": [
    {
     "data": {
      "text/plain": [
       "(array([[440.],\n",
       "        [616.],\n",
       "        [381.],\n",
       "        [963.],\n",
       "        [431.],\n",
       "        [255.],\n",
       "        [594.],\n",
       "        [625.],\n",
       "        [708.],\n",
       "        [468.]]),\n",
       " array([1.01, 1.42, 0.88, 2.21, 0.99, 0.59, 1.37, 1.44, 1.63, 1.08]))"
      ]
     },
     "execution_count": 3,
     "metadata": {},
     "output_type": "execute_result"
    }
   ],
   "source": [
    "x = data.drop('Y', axis=1).values\n",
    "y = data['Y'].values\n",
    "x,y"
   ]
  },
  {
   "cell_type": "code",
   "execution_count": 4,
   "metadata": {},
   "outputs": [],
   "source": [
    "x_train, x_test, y_train, y_test = train_test_split(x, y, test_size=0.3, random_state=0, shuffle=True)"
   ]
  },
  {
   "cell_type": "code",
   "execution_count": 5,
   "metadata": {},
   "outputs": [],
   "source": [
    "def CalcularError(y_test, y_pred):\n",
    "    return sum(abs((y_pred[i]-y_test[i]))for i in range(len(y_test)))\n",
    "\n",
    "def BGD_Mono(x,y,iterations,alpha,weight,x_test,y_test):\n",
    "    wi = 0\n",
    "    sumA = 0\n",
    "    for i in range(0,iterations):\n",
    "        for j in range(0,len(x)):\n",
    "            sumA += ((wi*x[j])-y[j])*x[j]\n",
    "        wi = wi - alpha*(2*sumA)\n",
    "        wi = wi - weight\n",
    "        weight = wi\n",
    "        print(f'Iteracion {i+1}: w = {weight}\\n')\n",
    "        y_pred = [weight * xi for xi in x_test]\n",
    "        print(f'Prediccion : {y_pred}')\n",
    "        error = CalcularError(y_test, y_pred)\n",
    "        print(f'Error = {error}\\n')\n",
    "    print(f'Y_test {y_test}')"
   ]
  },
  {
   "cell_type": "code",
   "execution_count": 6,
   "metadata": {},
   "outputs": [],
   "source": [
    "alpha = 0.00000007\n",
    "iterations = 4\n",
    "weight = 0.0"
   ]
  },
  {
   "cell_type": "code",
   "execution_count": 7,
   "metadata": {},
   "outputs": [
    {
     "name": "stdout",
     "output_type": "stream",
     "text": [
      "Iteracion 1: w = [0.00081438]\n",
      "\n",
      "Prediccion : [array([0.31027985]), array([0.57658302]), array([0.35099899])]\n",
      "Error = [2.26213814]\n",
      "\n",
      "Iteracion 2: w = [0.00134055]\n",
      "\n",
      "Prediccion : [array([0.51074827]), array([0.94910703]), array([0.57777561])]\n",
      "Error = [1.46236909]\n",
      "\n",
      "Iteracion 3: w = [0.0016805]\n",
      "\n",
      "Prediccion : [array([0.64026874]), array([1.18979073]), array([0.72429351])]\n",
      "Error = [0.94564702]\n",
      "\n",
      "Iteracion 4: w = [0.00190013]\n",
      "\n",
      "Prediccion : [array([0.7239505]), array([1.34529384]), array([0.81895713])]\n",
      "Error = [0.61179853]\n",
      "\n",
      "Y_test [0.88 1.63 0.99]\n"
     ]
    }
   ],
   "source": [
    "BGD_Mono(x_train,y_train,iterations,alpha,weight,x_test,y_test)"
   ]
  },
  {
   "cell_type": "markdown",
   "metadata": {},
   "source": [
    "## Programa 2\n",
    "\n",
    "1. Sin utilizar las bibliotecas de scikit-learn para regresión lineal elabora un programa en python que implemente BGD multivariable\n",
    "\n",
    "2. Entrada:\n",
    "    * Dataset_multivariable.csv\n",
    "    * Número de iteraciones\n",
    "    * Peso inicial\n",
    "    * alpha\n",
    "\n",
    "3. Divide Dataset_multivariable .csv en 70% para entrenamiento y 30% para pruebas, con los parametros shuffle=True y random_state=0\n",
    "\n",
    "4. Salida:\n",
    "    * Peso en cada iteración calculado con el conjunto de entrenamiento\n",
    "    * y_test\n",
    "    * y_pred en cada predicción\n",
    "    * Error de predicción Σi=1:𝑛 |𝑦_𝑝𝑟𝑒𝑑𝑖 − 𝑦_𝑡𝑒𝑠𝑡|\n",
    "    * Gráfica 1:\n",
    "        * Error de distribución Σi=1:𝑛 |𝑦_𝑝𝑟𝑒𝑑𝑖 − 𝑦_𝑡𝑒𝑠𝑡𝑖| de cada iteración"
   ]
  },
  {
   "cell_type": "code",
   "execution_count": 21,
   "metadata": {},
   "outputs": [],
   "source": [
    "def BGD_Multi(x,y,iterations,alpha,weight,x_test,y_test):\n",
    "    wi = weight\n",
    "    sumA = 0\n",
    "    for i in range(0,iterations):\n",
    "        for j in range(0,len(x)):\n",
    "            sumA += ((wi*x[j])-y[j])*x[j]\n",
    "        wi = wi - alpha*(2*sumA)\n",
    "        wi = wi - weight\n",
    "        weight = wi\n",
    "        print(f'Iteracion {i+1}: w = {weight}\\n')\n",
    "        y_pred = [weight * xi for xi in x_test]\n",
    "        print(f'Prediccion : {y_pred}')\n",
    "        error = CalcularError(y_test, y_pred)\n",
    "        print(f'Error = {error}\\n')\n",
    "    print(f'Y_test {y_test}')\n",
    "    "
   ]
  },
  {
   "cell_type": "code",
   "execution_count": 8,
   "metadata": {},
   "outputs": [
    {
     "data": {
      "text/html": [
       "<div>\n",
       "<style scoped>\n",
       "    .dataframe tbody tr th:only-of-type {\n",
       "        vertical-align: middle;\n",
       "    }\n",
       "\n",
       "    .dataframe tbody tr th {\n",
       "        vertical-align: top;\n",
       "    }\n",
       "\n",
       "    .dataframe thead th {\n",
       "        text-align: right;\n",
       "    }\n",
       "</style>\n",
       "<table border=\"1\" class=\"dataframe\">\n",
       "  <thead>\n",
       "    <tr style=\"text-align: right;\">\n",
       "      <th></th>\n",
       "      <th>x1</th>\n",
       "      <th>x2</th>\n",
       "      <th>x3</th>\n",
       "      <th>x4</th>\n",
       "      <th>x5</th>\n",
       "      <th>y</th>\n",
       "    </tr>\n",
       "  </thead>\n",
       "  <tbody>\n",
       "    <tr>\n",
       "      <th>0</th>\n",
       "      <td>1.0</td>\n",
       "      <td>0.4</td>\n",
       "      <td>-12.0</td>\n",
       "      <td>12.0</td>\n",
       "      <td>10.2</td>\n",
       "      <td>11.6</td>\n",
       "    </tr>\n",
       "    <tr>\n",
       "      <th>1</th>\n",
       "      <td>1.0</td>\n",
       "      <td>0.6</td>\n",
       "      <td>-15.0</td>\n",
       "      <td>16.0</td>\n",
       "      <td>11.9</td>\n",
       "      <td>14.5</td>\n",
       "    </tr>\n",
       "    <tr>\n",
       "      <th>2</th>\n",
       "      <td>1.0</td>\n",
       "      <td>0.8</td>\n",
       "      <td>-18.0</td>\n",
       "      <td>20.0</td>\n",
       "      <td>13.6</td>\n",
       "      <td>17.4</td>\n",
       "    </tr>\n",
       "    <tr>\n",
       "      <th>3</th>\n",
       "      <td>1.0</td>\n",
       "      <td>1.0</td>\n",
       "      <td>-21.0</td>\n",
       "      <td>24.0</td>\n",
       "      <td>15.3</td>\n",
       "      <td>20.3</td>\n",
       "    </tr>\n",
       "    <tr>\n",
       "      <th>4</th>\n",
       "      <td>1.0</td>\n",
       "      <td>1.2</td>\n",
       "      <td>-24.0</td>\n",
       "      <td>28.0</td>\n",
       "      <td>17.0</td>\n",
       "      <td>23.2</td>\n",
       "    </tr>\n",
       "    <tr>\n",
       "      <th>5</th>\n",
       "      <td>1.0</td>\n",
       "      <td>1.4</td>\n",
       "      <td>-27.0</td>\n",
       "      <td>32.0</td>\n",
       "      <td>18.7</td>\n",
       "      <td>26.1</td>\n",
       "    </tr>\n",
       "    <tr>\n",
       "      <th>6</th>\n",
       "      <td>1.0</td>\n",
       "      <td>1.6</td>\n",
       "      <td>-30.0</td>\n",
       "      <td>36.0</td>\n",
       "      <td>20.4</td>\n",
       "      <td>29.0</td>\n",
       "    </tr>\n",
       "    <tr>\n",
       "      <th>7</th>\n",
       "      <td>1.0</td>\n",
       "      <td>1.8</td>\n",
       "      <td>-33.0</td>\n",
       "      <td>40.0</td>\n",
       "      <td>22.1</td>\n",
       "      <td>31.9</td>\n",
       "    </tr>\n",
       "    <tr>\n",
       "      <th>8</th>\n",
       "      <td>1.0</td>\n",
       "      <td>2.0</td>\n",
       "      <td>-36.0</td>\n",
       "      <td>44.0</td>\n",
       "      <td>23.8</td>\n",
       "      <td>34.8</td>\n",
       "    </tr>\n",
       "    <tr>\n",
       "      <th>9</th>\n",
       "      <td>1.0</td>\n",
       "      <td>2.2</td>\n",
       "      <td>-39.0</td>\n",
       "      <td>48.0</td>\n",
       "      <td>25.5</td>\n",
       "      <td>37.7</td>\n",
       "    </tr>\n",
       "  </tbody>\n",
       "</table>\n",
       "</div>"
      ],
      "text/plain": [
       "    x1   x2    x3    x4    x5     y\n",
       "0  1.0  0.4 -12.0  12.0  10.2  11.6\n",
       "1  1.0  0.6 -15.0  16.0  11.9  14.5\n",
       "2  1.0  0.8 -18.0  20.0  13.6  17.4\n",
       "3  1.0  1.0 -21.0  24.0  15.3  20.3\n",
       "4  1.0  1.2 -24.0  28.0  17.0  23.2\n",
       "5  1.0  1.4 -27.0  32.0  18.7  26.1\n",
       "6  1.0  1.6 -30.0  36.0  20.4  29.0\n",
       "7  1.0  1.8 -33.0  40.0  22.1  31.9\n",
       "8  1.0  2.0 -36.0  44.0  23.8  34.8\n",
       "9  1.0  2.2 -39.0  48.0  25.5  37.7"
      ]
     },
     "execution_count": 8,
     "metadata": {},
     "output_type": "execute_result"
    }
   ],
   "source": [
    "data2 = pd.read_csv('Dataset_multivariable.csv')\n",
    "data2"
   ]
  },
  {
   "cell_type": "code",
   "execution_count": 16,
   "metadata": {},
   "outputs": [
    {
     "data": {
      "text/plain": [
       "(array([[  1. ,   0.4, -12. ,  12. ,  10.2],\n",
       "        [  1. ,   0.6, -15. ,  16. ,  11.9],\n",
       "        [  1. ,   0.8, -18. ,  20. ,  13.6],\n",
       "        [  1. ,   1. , -21. ,  24. ,  15.3],\n",
       "        [  1. ,   1.2, -24. ,  28. ,  17. ],\n",
       "        [  1. ,   1.4, -27. ,  32. ,  18.7],\n",
       "        [  1. ,   1.6, -30. ,  36. ,  20.4],\n",
       "        [  1. ,   1.8, -33. ,  40. ,  22.1],\n",
       "        [  1. ,   2. , -36. ,  44. ,  23.8],\n",
       "        [  1. ,   2.2, -39. ,  48. ,  25.5]]),\n",
       " array([11.6, 14.5, 17.4, 20.3, 23.2, 26.1, 29. , 31.9, 34.8, 37.7]))"
      ]
     },
     "execution_count": 16,
     "metadata": {},
     "output_type": "execute_result"
    }
   ],
   "source": [
    "x = data2.drop('y', axis=1).values\n",
    "y = data2['y'].values\n",
    "x,y"
   ]
  },
  {
   "cell_type": "code",
   "execution_count": 10,
   "metadata": {},
   "outputs": [],
   "source": [
    "x_train, x_test, y_train, y_test = train_test_split(x, y, test_size=0.3, random_state=0, shuffle=True)"
   ]
  },
  {
   "cell_type": "code",
   "execution_count": 11,
   "metadata": {},
   "outputs": [],
   "source": [
    "alpha = 0.000006\n",
    "iterations = 4\n",
    "weight = [0.0,0.0,0.0,0.0,0.0]"
   ]
  },
  {
   "cell_type": "code",
   "execution_count": 22,
   "metadata": {},
   "outputs": [
    {
     "name": "stdout",
     "output_type": "stream",
     "text": [
      "Iteracion 1: w = [ 0.0020532   0.00308328 -0.0585684   0.0698784   0.04016964]\n",
      "\n",
      "Prediccion : [array([0.0020532 , 0.00246662, 1.0542312 , 1.397568  , 0.5463071 ]), array([2.05320000e-03, 6.16656000e-03, 2.10846240e+00, 3.07464960e+00,\n",
      "       9.56037432e-01]), array([0.0020532 , 0.00369994, 1.4056416 , 1.9565952 , 0.68288388])]\n",
      "Error = [75.3938404  75.38766688 70.8316648  68.9711872  73.21477158]\n",
      "\n",
      "Iteracion 2: w = [ 0.00410623  0.00616604 -0.11358826  0.13371931  0.07918999]\n",
      "\n",
      "Prediccion : [array([0.00410623, 0.00493283, 2.04458864, 2.67438612, 1.07698382]), array([4.10622753e-03, 1.23320751e-02, 4.08917728e+00, 5.88364947e+00,\n",
      "       1.88472168e+00]), array([0.00410623, 0.00739925, 2.72611819, 3.74414057, 1.34622977])]\n",
      "Error = [75.38768132 75.37533585 66.54011589 63.09782383 71.09206474]\n",
      "\n",
      "Iteracion 3: w = [ 0.00615908  0.00924827 -0.16527457  0.19204436  0.11709392]\n",
      "\n",
      "Prediccion : [array([0.00615908, 0.00739862, 2.9749423 , 3.84088716, 1.59247734]), array([6.15908261e-03, 1.84965456e-02, 5.94988461e+00, 8.44995176e+00,\n",
      "       2.78683534e+00]), array([0.00615908, 0.01109793, 3.96658974, 5.37724203, 1.99059667])]\n",
      "Error = [75.38152275 75.36300691 62.50858335 57.73191905 69.03009066]\n",
      "\n",
      "Iteracion 4: w = [ 0.00821177  0.01232999 -0.21382932  0.24533013  0.15391339]\n",
      "\n",
      "Prediccion : [array([0.00821177, 0.00986399, 3.8489277 , 4.90660251, 2.09322207]), array([8.21176525e-03, 2.46599715e-02, 7.69785540e+00, 1.07945255e+01,\n",
      "       3.66313862e+00]), array([0.00821177, 0.01479598, 5.1319036 , 6.86924352, 2.61652759])]\n",
      "Error = [75.3753647  75.35068006 58.7213133  52.82962844 67.02711172]\n",
      "\n",
      "Y_test [17.4 34.8 23.2]\n"
     ]
    }
   ],
   "source": [
    "BGD_Multi(x_train,y_train,iterations,alpha,weight,x_test,y_test)"
   ]
  },
  {
   "cell_type": "code",
   "execution_count": null,
   "metadata": {},
   "outputs": [],
   "source": []
  }
 ],
 "metadata": {
  "kernelspec": {
   "display_name": "Python 3",
   "language": "python",
   "name": "python3"
  },
  "language_info": {
   "codemirror_mode": {
    "name": "ipython",
    "version": 3
   },
   "file_extension": ".py",
   "mimetype": "text/x-python",
   "name": "python",
   "nbconvert_exporter": "python",
   "pygments_lexer": "ipython3",
   "version": "3.10.12"
  }
 },
 "nbformat": 4,
 "nbformat_minor": 2
}

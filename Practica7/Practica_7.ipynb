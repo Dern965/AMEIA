{
 "cells": [
  {
   "cell_type": "code",
   "execution_count": 1,
   "metadata": {},
   "outputs": [],
   "source": [
    "import pandas as pd\n",
    "import numpy as np \n",
    "import math as mt\n",
    "from sklearn.metrics import accuracy_score, classification_report, confusion_matrix, ConfusionMatrixDisplay\n",
    "from sklearn.model_selection import train_test_split\n",
    "import matplotlib.pyplot as plt"
   ]
  },
  {
   "cell_type": "code",
   "execution_count": 2,
   "metadata": {},
   "outputs": [],
   "source": [
    "df_iris = pd.read_csv('iris.csv')"
   ]
  },
  {
   "cell_type": "code",
   "execution_count": 3,
   "metadata": {},
   "outputs": [],
   "source": [
    "X = df_iris.drop('species', axis=1)\n",
    "y = df_iris['species']"
   ]
  },
  {
   "cell_type": "code",
   "execution_count": 4,
   "metadata": {},
   "outputs": [],
   "source": [
    "X_train, X_test, y_train, y_test = train_test_split(X, y, test_size=0.2, random_state=0, shuffle=True)"
   ]
  },
  {
   "attachments": {},
   "cell_type": "markdown",
   "metadata": {},
   "source": [
    "* Creamos el conjunto de entrenamiento y prueba."
   ]
  },
  {
   "cell_type": "code",
   "execution_count": 5,
   "metadata": {},
   "outputs": [],
   "source": [
    "# Convertir de nuevo a DataFrame\n",
    "train_df = pd.DataFrame(X_train)\n",
    "train_df['class'] = y_train"
   ]
  },
  {
   "cell_type": "code",
   "execution_count": 6,
   "metadata": {},
   "outputs": [],
   "source": [
    "# Convertir de nuevo a DataFrame\n",
    "test_df = pd.DataFrame(X_test)\n",
    "test_df['class'] = y_test"
   ]
  },
  {
   "attachments": {},
   "cell_type": "markdown",
   "metadata": {},
   "source": [
    "* Creamos los conjuntos de datos para cada una de las clases co el conjunto de entrenamiento"
   ]
  },
  {
   "cell_type": "code",
   "execution_count": 7,
   "metadata": {},
   "outputs": [],
   "source": [
    "# Función para modificar las etiquetas\n",
    "def modify_labels(df, positive_class):\n",
    "    df_copy = df.copy()\n",
    "    df_copy['class'] = df_copy['class'].apply(lambda x: positive_class if x == positive_class else 'No-' + positive_class)\n",
    "    return df_copy"
   ]
  },
  {
   "attachments": {},
   "cell_type": "markdown",
   "metadata": {},
   "source": [
    "* Aplicamos la función y creamos los tres conjuntos de datos para cada especie o clase."
   ]
  },
  {
   "cell_type": "code",
   "execution_count": 8,
   "metadata": {},
   "outputs": [],
   "source": [
    "# Crear conjuntos modificados para cada clase\n",
    "train_setosa = modify_labels(train_df, 'Iris-setosa')\n",
    "train_versicolor = modify_labels(train_df, 'Iris-versicolor')\n",
    "train_virginica = modify_labels(train_df, 'Iris-virginica')"
   ]
  },
  {
   "attachments": {},
   "cell_type": "markdown",
   "metadata": {},
   "source": [
    "* Creamos la función para calcular la norma de un vector."
   ]
  },
  {
   "cell_type": "code",
   "execution_count": 9,
   "metadata": {},
   "outputs": [],
   "source": [
    "def norma(vector: list) -> float:\n",
    "    sumV = 0\n",
    "    res = 0\n",
    "    for i in range(len(vector)):\n",
    "        sumV = sumV + pow(vector[i],2)\n",
    "    res = mt.sqrt(sumV)\n",
    "    return res"
   ]
  },
  {
   "cell_type": "code",
   "execution_count": 10,
   "metadata": {},
   "outputs": [],
   "source": [
    "def dict_to_list_norm(diccionario: dict) -> list:\n",
    "    # Función principal que recibe el diccionario y procesa cada lista\n",
    "    normas = []\n",
    "    for key in diccionario:\n",
    "        result = norma(diccionario[key])\n",
    "        normas.append(result)\n",
    "    return normas\n"
   ]
  },
  {
   "attachments": {},
   "cell_type": "markdown",
   "metadata": {},
   "source": [
    "* Creamos la funcion SVM."
   ]
  },
  {
   "cell_type": "code",
   "execution_count": 11,
   "metadata": {},
   "outputs": [],
   "source": [
    "def SVM(df_class_train: pd.DataFrame, col_etiq_name: str ,positive_class: str):\n",
    "    print(\"Etapa de entrenamiento\")\n",
    "    print('\\t')\n",
    "\n",
    "    #Numero de instancias totales que cumplan con la clase especificada.\n",
    "    M, N = df_class_train[col_etiq_name].value_counts()\n",
    "    \n",
    "\n",
    "    #Obtendremos las caracteristicas de cada una de las clases para poder calcular los vectores promedio\n",
    "    \n",
    "    #Obtener los nombres de las clases\n",
    "    clases = df_class_train[col_etiq_name].unique()\n",
    "\n",
    "    # Crear un diccionario para almacenar las listas por clase\n",
    "    listas_por_clase = {clase: {} for clase in clases}\n",
    "\n",
    "    # Recorrer cada columna excepto la columna de clase\n",
    "    for col in train_setosa.columns[:-1]:\n",
    "        for clase in clases:\n",
    "            # Filtrar las filas que corresponden a la clase actual y convertir la columna en una lista\n",
    "            listas_por_clase[clase][col] = df_class_train[df_class_train[col_etiq_name] == clase][col].tolist()\n",
    "\n",
    "    # Crear un diccionario para almacenar los resultados promedio\n",
    "    promedios = {}\n",
    "\n",
    "    # Iterar sobre las claves del diccionario listas_por_clase\n",
    "    for key in listas_por_clase:\n",
    "        # Crear una lista vacía para almacenar los promedios por cada clase\n",
    "        promedios[key] = []\n",
    "        # Iterar sobre las listas de cada clase\n",
    "        for subkey in listas_por_clase[key]:\n",
    "            # Obtener la lista actual\n",
    "            current_list = listas_por_clase[key][subkey]\n",
    "            # Calcular la suma de los elementos de la lista\n",
    "            total_sum = sum(current_list)\n",
    "            # Calcular la longitud de la lista\n",
    "            list_length = len(current_list)\n",
    "            # Calcular el promedio y almacenarlo en la lista de promedios\n",
    "            if list_length > 0:\n",
    "                promedio = total_sum / list_length\n",
    "            else:\n",
    "                promedio = 0  # Manejo de caso donde la lista está vacía\n",
    "            promedios[key].append(promedio)\n",
    "\n",
    "\n",
    "    # Inicializar una lista para almacenar las sumas acumuladas\n",
    "    accumulated_sums = []\n",
    "\n",
    "    # Iterar sobre las posiciones de los elementos en las listas\n",
    "    for index in range(len(promedios[positive_class])):\n",
    "        sum_at_position = 0\n",
    "        # Iterar sobre las claves del diccionario y sumar el elemento en la posición actual\n",
    "        for key in promedios:\n",
    "            sum_at_position += promedios[key][index]\n",
    "        # Añadir la suma acumulada a la lista de resultados\n",
    "        accumulated_sums.append(sum_at_position)\n",
    "\n",
    "\n",
    "    num_keys = len(promedios)\n",
    "    vec_prom = []\n",
    "\n",
    "    for i in range(len(accumulated_sums)):\n",
    "        vec_prom.append(accumulated_sums[i]/num_keys)\n",
    "\n",
    "\n",
    "\n",
    "    print(f'Numero de instancias de la clase Positiva: {N}')\n",
    "    print('\\t')\n",
    "    # Iterar sobre las claves del diccionario e imprimir cada lista\n",
    "    for key in promedios:\n",
    "        print(f\"Vector de '{key}': {promedios[key]}\")\n",
    "        print('\\t')\n",
    "\n",
    "    print(f'Vector promedio entre las clases: {vec_prom}')\n",
    "    print('\\t')\n",
    "\n",
    "    norma_classYES_NO = dict_to_list_norm(promedios)\n",
    "    norma_prom = norma(vec_prom)\n",
    "\n",
    "    print(promedios)\n",
    "    print(f'Norma del vector promedio de la clase No-Positiva: {norma_classYES_NO[0]}')\n",
    "    print(f'Norma del vector promedio de la clase Positiva: {norma_classYES_NO[1]}')\n",
    "    print(f'Norma del vector promedio de las dos clases: {norma_prom}')\n",
    "\n",
    "    return N, norma_classYES_NO, norma_prom, vec_prom\n"
   ]
  },
  {
   "attachments": {},
   "cell_type": "markdown",
   "metadata": {},
   "source": [
    "* Aplicamos la funcion a los tres conjuntos de datos creados por cada clase. "
   ]
  },
  {
   "cell_type": "code",
   "execution_count": 12,
   "metadata": {},
   "outputs": [
    {
     "name": "stdout",
     "output_type": "stream",
     "text": [
      "Etapa de entrenamiento\n",
      "\t\n",
      "Numero de instancias de la clase Positiva: 39\n",
      "\t\n",
      "Vector de 'No-Iris-setosa': [6.295061728395061, 2.885185185185185, 4.949382716049382, 1.7086419753086421]\n",
      "\t\n",
      "Vector de 'Iris-setosa': [5.02051282051282, 3.4025641025641025, 1.4615384615384615, 0.23846153846153847]\n",
      "\t\n",
      "Vector promedio entre las clases: [5.657787274453941, 3.1438746438746437, 3.205460588793922, 0.9735517568850903]\n",
      "\t\n",
      "{'No-Iris-setosa': [6.295061728395061, 2.885185185185185, 4.949382716049382, 1.7086419753086421], 'Iris-setosa': [5.02051282051282, 3.4025641025641025, 1.4615384615384615, 0.23846153846153847]}\n",
      "Norma del vector promedio de la clase No-Positiva: 8.681471210965988\n",
      "Norma del vector promedio de la clase Positiva: 6.2430721630358486\n",
      "Norma del vector promedio de las dos clases: 7.288160620418297\n"
     ]
    }
   ],
   "source": [
    "setosa_ins, list_norms_set, norm_prom_setosa, setosa_vec = SVM(train_setosa, \"class\", \"Iris-setosa\")"
   ]
  },
  {
   "cell_type": "code",
   "execution_count": 13,
   "metadata": {},
   "outputs": [
    {
     "name": "stdout",
     "output_type": "stream",
     "text": [
      "Etapa de entrenamiento\n",
      "\t\n",
      "Numero de instancias de la clase Positiva: 37\n",
      "\t\n",
      "Vector de 'No-Iris-versicolor': [5.878313253012048, 3.183132530120482, 3.637349397590361, 1.189156626506024]\n",
      "\t\n",
      "Vector de 'Iris-versicolor': [5.886486486486487, 2.7621621621621624, 4.216216216216216, 1.3243243243243243]\n",
      "\t\n",
      "Vector promedio entre las clases: [5.882399869749268, 2.972647346141322, 3.9267828069032884, 1.256740475415174]\n",
      "\t\n",
      "{'No-Iris-versicolor': [5.878313253012048, 3.183132530120482, 3.637349397590361, 1.189156626506024], 'Iris-versicolor': [5.886486486486487, 2.7621621621621624, 4.216216216216216, 1.3243243243243243]}\n",
      "Norma del vector promedio de la clase No-Positiva: 7.702681580291532\n",
      "Norma del vector promedio de la clase Positiva: 7.8619703041635844\n",
      "Norma del vector promedio de las dos clases: 7.774206088552404\n"
     ]
    }
   ],
   "source": [
    "versi_ins, list_norms_versi, norm_prom_versi, versi_prom = SVM(train_versicolor, \"class\", \"Iris-versicolor\")"
   ]
  },
  {
   "cell_type": "code",
   "execution_count": 14,
   "metadata": {},
   "outputs": [
    {
     "name": "stdout",
     "output_type": "stream",
     "text": [
      "Etapa de entrenamiento\n",
      "\t\n",
      "Numero de instancias de la clase Positiva: 44\n",
      "\t\n",
      "Vector de 'Iris-virginica': [6.638636363636365, 2.9886363636363638, 5.565909090909091, 2.0318181818181817]\n",
      "\t\n",
      "Vector de 'No-Iris-virginica': [5.442105263157895, 3.0907894736842105, 2.8026315789473686, 0.7671052631578948]\n",
      "\t\n",
      "Vector promedio entre las clases: [6.04037081339713, 3.039712918660287, 4.18427033492823, 1.3994617224880384]\n",
      "\t\n",
      "{'Iris-virginica': [6.638636363636365, 2.9886363636363638, 5.565909090909091, 2.0318181818181817], 'No-Iris-virginica': [5.442105263157895, 3.0907894736842105, 2.8026315789473686, 0.7671052631578948]}\n",
      "Norma del vector promedio de la clase No-Positiva: 9.386749661883822\n",
      "Norma del vector promedio de la clase Positiva: 6.9001944550864325\n",
      "Norma del vector promedio de las dos clases: 8.074190085679167\n"
     ]
    }
   ],
   "source": [
    "virgi_ins, list_norms_virgi, norm_prom_virgi, virgi_prom = SVM(train_virginica, \"class\", \"Iris-virginica\")"
   ]
  },
  {
   "attachments": {},
   "cell_type": "markdown",
   "metadata": {},
   "source": [
    "* Clasificacion de las instancias con SVM."
   ]
  },
  {
   "cell_type": "code",
   "execution_count": 25,
   "metadata": {},
   "outputs": [],
   "source": [
    "def class_SVM(test_df: pd.DataFrame, vec_prom: list, norma_vec_prom: float, list_norms_class: list, etiqueta: str) -> list:\n",
    "    # Si la columna 'class' no existe, no la eliminamos\n",
    "    if 'class' in test_df.columns:\n",
    "        features_list = test_df.drop('class', axis=1).values.tolist()\n",
    "    else:\n",
    "        features_list = test_df.values.tolist()\n",
    "\n",
    "    pre_proy = []\n",
    "    proyecciones = []\n",
    "    predicciones = []\n",
    "\n",
    "    # Calculamos las proyecciones\n",
    "    for features in features_list:\n",
    "        suma = sum(f * v for f, v in zip(features, vec_prom))\n",
    "        pre_proy.append(suma)\n",
    "    \n",
    "    for pre in pre_proy:\n",
    "        proy = pre / norma_vec_prom\n",
    "        proyecciones.append(proy)\n",
    "        if etiqueta == 'Virginica':\n",
    "            if list_norms_class[0] > list_norms_class[1]:\n",
    "                predicciones.append(0 if proy < norma_vec_prom else 1)\n",
    "            else:\n",
    "                predicciones.append(1 if proy < norma_vec_prom else 0)\n",
    "        else:  # Para 'Setosa' o 'Versicolor'\n",
    "            if list_norms_class[1] > list_norms_class[0]:\n",
    "                predicciones.append(0 if proy < norma_vec_prom else 1)\n",
    "            else:\n",
    "                predicciones.append(1 if proy < norma_vec_prom else 0)\n",
    "\n",
    "    # Imprimir proyecciones y predicciones\n",
    "    for pos, (proy, pred) in enumerate(zip(proyecciones, predicciones)):\n",
    "        print(f'La proyección de la instancia {pos+1} respecto al vector promedio de la clase {etiqueta}: {proy}')\n",
    "        print(f'La predicción de la instancia {pos+1} es: {pred}')\n",
    "\n",
    "    return predicciones"
   ]
  },
  {
   "cell_type": "code",
   "execution_count": 26,
   "metadata": {},
   "outputs": [
    {
     "name": "stdout",
     "output_type": "stream",
     "text": [
      "La proyección de la instancia 1 respecto al vector promedio de la clase Setosa: 8.274020230168045\n",
      "La predicción de la instancia 1 es: 0\n",
      "La proyección de la instancia 2 respecto al vector promedio de la clase Setosa: 7.499648377970512\n",
      "La predicción de la instancia 2 es: 0\n",
      "La proyección de la instancia 3 respecto al vector promedio de la clase Setosa: 6.723844498180959\n",
      "La predicción de la instancia 3 es: 1\n",
      "La proyección de la instancia 4 respecto al vector promedio de la clase Setosa: 9.929237596631308\n",
      "La predicción de la instancia 4 es: 0\n",
      "La proyección de la instancia 5 respecto al vector promedio de la clase Setosa: 6.034583166676581\n",
      "La predicción de la instancia 5 es: 1\n",
      "La proyección de la instancia 6 respecto al vector promedio de la clase Setosa: 9.287046842683013\n",
      "La predicción de la instancia 6 es: 0\n",
      "La proyección de la instancia 7 respecto al vector promedio de la clase Setosa: 6.003114392917634\n",
      "La predicción de la instancia 7 es: 1\n",
      "La proyección de la instancia 8 respecto al vector promedio de la clase Setosa: 8.805950071642133\n",
      "La predicción de la instancia 8 es: 0\n",
      "La proyección de la instancia 9 respecto al vector promedio de la clase Setosa: 8.784793460179134\n",
      "La predicción de la instancia 9 es: 0\n",
      "La proyección de la instancia 10 respecto al vector promedio de la clase Setosa: 7.876172604556261\n",
      "La predicción de la instancia 10 es: 0\n",
      "La proyección de la instancia 11 respecto al vector promedio de la clase Setosa: 8.506965122507106\n",
      "La predicción de la instancia 11 es: 0\n",
      "La proyección de la instancia 12 respecto al vector promedio de la clase Setosa: 8.528233794364022\n",
      "La predicción de la instancia 12 es: 0\n",
      "La proyección de la instancia 13 respecto al vector promedio de la clase Setosa: 8.17068686518517\n",
      "La predicción de la instancia 13 es: 0\n",
      "La proyección de la instancia 14 respecto al vector promedio de la clase Setosa: 8.47729843624567\n",
      "La predicción de la instancia 14 es: 0\n",
      "La proyección de la instancia 15 respecto al vector promedio de la clase Setosa: 8.240539581429953\n",
      "La predicción de la instancia 15 es: 0\n",
      "La proyección de la instancia 16 respecto al vector promedio de la clase Setosa: 5.814185129372608\n",
      "La predicción de la instancia 16 es: 1\n",
      "La proyección de la instancia 17 respecto al vector promedio de la clase Setosa: 8.08830423326717\n",
      "La predicción de la instancia 17 es: 0\n",
      "La proyección de la instancia 18 respecto al vector promedio de la clase Setosa: 7.486689114625257\n",
      "La predicción de la instancia 18 es: 0\n",
      "La proyección de la instancia 19 respecto al vector promedio de la clase Setosa: 5.676152784624764\n",
      "La predicción de la instancia 19 es: 1\n",
      "La proyección de la instancia 20 respecto al vector promedio de la clase Setosa: 6.499538680396124\n",
      "La predicción de la instancia 20 es: 1\n",
      "La proyección de la instancia 21 respecto al vector promedio de la clase Setosa: 7.977365094804204\n",
      "La predicción de la instancia 21 es: 0\n",
      "La proyección de la instancia 22 respecto al vector promedio de la clase Setosa: 7.820921618244305\n",
      "La predicción de la instancia 22 es: 0\n",
      "La proyección de la instancia 23 respecto al vector promedio de la clase Setosa: 6.055250491187073\n",
      "La predicción de la instancia 23 es: 1\n",
      "La proyección de la instancia 24 respecto al vector promedio de la clase Setosa: 5.309138706701763\n",
      "La predicción de la instancia 24 es: 1\n",
      "La proyección de la instancia 25 respecto al vector promedio de la clase Setosa: 8.372446392319667\n",
      "La predicción de la instancia 25 es: 0\n",
      "La proyección de la instancia 26 respecto al vector promedio de la clase Setosa: 5.590428537820745\n",
      "La predicción de la instancia 26 es: 1\n",
      "La proyección de la instancia 27 respecto al vector promedio de la clase Setosa: 6.487402930643366\n",
      "La predicción de la instancia 27 es: 1\n",
      "La proyección de la instancia 28 respecto al vector promedio de la clase Setosa: 8.128884429170977\n",
      "La predicción de la instancia 28 es: 0\n",
      "La proyección de la instancia 29 respecto al vector promedio de la clase Setosa: 6.45861448514355\n",
      "La predicción de la instancia 29 es: 1\n",
      "La proyección de la instancia 30 respecto al vector promedio de la clase Setosa: 6.105280896473161\n",
      "La predicción de la instancia 30 es: 1\n"
     ]
    }
   ],
   "source": [
    "test_setosa = class_SVM(X_test, setosa_vec, norm_prom_setosa, list_norms_set, 'Setosa')"
   ]
  },
  {
   "cell_type": "code",
   "execution_count": 27,
   "metadata": {},
   "outputs": [
    {
     "name": "stdout",
     "output_type": "stream",
     "text": [
      "La proyección de la instancia 1 respecto al vector promedio de la clase Versicolor: 8.423252551327478\n",
      "La predicción de la instancia 1 es: 1\n",
      "La proyección de la instancia 2 respecto al vector promedio de la clase Versicolor: 7.563228246497816\n",
      "La predicción de la instancia 2 es: 0\n",
      "La proyección de la instancia 3 respecto al vector promedio de la clase Versicolor: 6.507051856607232\n",
      "La predicción de la instancia 3 es: 0\n",
      "La proyección de la instancia 4 respecto al vector promedio de la clase Versicolor: 10.105605639642409\n",
      "La predicción de la instancia 4 es: 1\n",
      "La proyección de la instancia 5 respecto al vector promedio de la clase Versicolor: 5.873335760715216\n",
      "La predicción de la instancia 5 es: 0\n",
      "La proyección de la instancia 6 respecto al vector promedio de la clase Versicolor: 9.463526257681673\n",
      "La predicción de la instancia 6 es: 1\n",
      "La proyección de la instancia 7 respecto al vector promedio de la clase Versicolor: 5.826717781323254\n",
      "La predicción de la instancia 7 es: 0\n",
      "La proyección de la instancia 8 respecto al vector promedio de la clase Versicolor: 8.87142365668475\n",
      "La predicción de la instancia 8 es: 1\n",
      "La proyección de la instancia 9 respecto al vector promedio de la clase Versicolor: 8.866722214080536\n",
      "La predicción de la instancia 9 es: 1\n",
      "La proyección de la instancia 10 respecto al vector promedio de la clase Versicolor: 7.916814259779864\n",
      "La predicción de la instancia 10 es: 1\n",
      "La proyección de la instancia 11 respecto al vector promedio de la clase Versicolor: 8.664671597639698\n",
      "La predicción de la instancia 11 es: 1\n",
      "La proyección de la instancia 12 respecto al vector promedio de la clase Versicolor: 8.581643354743873\n",
      "La predicción de la instancia 12 es: 1\n",
      "La proyección de la instancia 13 respecto al vector promedio de la clase Versicolor: 8.254221563807127\n",
      "La predicción de la instancia 13 es: 1\n",
      "La proyección de la instancia 14 respecto al vector promedio de la clase Versicolor: 8.554870116625352\n",
      "La predicción de la instancia 14 es: 1\n",
      "La proyección de la instancia 15 respecto al vector promedio de la clase Versicolor: 8.32478990524909\n",
      "La predicción de la instancia 15 es: 1\n",
      "La proyección de la instancia 16 respecto al vector promedio de la clase Versicolor: 5.666792710522187\n",
      "La predicción de la instancia 16 es: 0\n",
      "La proyección de la instancia 17 respecto al vector promedio de la clase Versicolor: 8.16426901262037\n",
      "La predicción de la instancia 17 es: 1\n",
      "La proyección de la instancia 18 respecto al vector promedio de la clase Versicolor: 7.572222119393622\n",
      "La predicción de la instancia 18 es: 0\n",
      "La proyección de la instancia 19 respecto al vector promedio de la clase Versicolor: 5.534710425141512\n",
      "La predicción de la instancia 19 es: 0\n",
      "La proyección de la instancia 20 respecto al vector promedio de la clase Versicolor: 6.298494949579505\n",
      "La predicción de la instancia 20 es: 0\n",
      "La proyección de la instancia 21 respecto al vector promedio de la clase Versicolor: 8.10623847973943\n",
      "La predicción de la instancia 21 es: 1\n",
      "La proyección de la instancia 22 respecto al vector promedio de la clase Versicolor: 7.899843913790972\n",
      "La predicción de la instancia 22 es: 1\n",
      "La proyección de la instancia 23 respecto al vector promedio de la clase Versicolor: 5.9240461669381705\n",
      "La predicción de la instancia 23 es: 0\n",
      "La proyección de la instancia 24 respecto al vector promedio de la clase Versicolor: 5.177645189355842\n",
      "La predicción de la instancia 24 es: 0\n",
      "La proyección de la instancia 25 respecto al vector promedio de la clase Versicolor: 8.477390660838024\n",
      "La predicción de la instancia 25 es: 1\n",
      "La proyección de la instancia 26 respecto al vector promedio de la clase Versicolor: 5.394595958897574\n",
      "La predicción de la instancia 26 es: 0\n",
      "La proyección de la instancia 27 respecto al vector promedio de la clase Versicolor: 6.336323248090409\n",
      "La predicción de la instancia 27 es: 0\n",
      "La proyección de la instancia 28 respecto al vector promedio de la clase Versicolor: 8.182248381303685\n",
      "La predicción de la instancia 28 es: 1\n",
      "La proyección de la instancia 29 respecto al vector promedio de la clase Versicolor: 6.491236713852551\n",
      "La predicción de la instancia 29 es: 0\n",
      "La proyección de la instancia 30 respecto al vector promedio de la clase Versicolor: 5.956177194096009\n",
      "La predicción de la instancia 30 es: 0\n"
     ]
    }
   ],
   "source": [
    "test_versi = class_SVM(X_test, versi_prom, norm_prom_versi, list_norms_versi,'Versicolor')"
   ]
  },
  {
   "cell_type": "code",
   "execution_count": 28,
   "metadata": {},
   "outputs": [
    {
     "name": "stdout",
     "output_type": "stream",
     "text": [
      "La proyección de la instancia 1 respecto al vector promedio de la clase Virginica: 8.452096496105348\n",
      "La predicción de la instancia 1 es: 1\n",
      "La proyección de la instancia 2 respecto al vector promedio de la clase Virginica: 7.563128402432174\n",
      "La predicción de la instancia 2 es: 0\n",
      "La proyección de la instancia 3 respecto al vector promedio de la clase Virginica: 6.45596697530188\n",
      "La predicción de la instancia 3 es: 0\n",
      "La proyección de la instancia 4 respecto al vector promedio de la clase Virginica: 10.12978487557621\n",
      "La predicción de la instancia 4 es: 1\n",
      "La proyección de la instancia 5 respecto al vector promedio de la clase Virginica: 5.832557239499186\n",
      "La predicción de la instancia 5 es: 0\n",
      "La proyección de la instancia 6 respecto al vector promedio de la clase Virginica: 9.49812479740741\n",
      "La predicción de la instancia 6 es: 1\n",
      "La proyección de la instancia 7 respecto al vector promedio de la clase Virginica: 5.783891478760194\n",
      "La predicción de la instancia 7 es: 0\n",
      "La proyección de la instancia 8 respecto al vector promedio de la clase Virginica: 8.875052097497747\n",
      "La predicción de la instancia 8 es: 1\n",
      "La proyección de la instancia 9 respecto al vector promedio de la clase Virginica: 8.871411369114785\n",
      "La predicción de la instancia 9 es: 1\n",
      "La proyección de la instancia 10 respecto al vector promedio de la clase Virginica: 7.9158205386172185\n",
      "La predicción de la instancia 10 es: 0\n",
      "La proyección de la instancia 11 respecto al vector promedio de la clase Virginica: 8.687023106097785\n",
      "La predicción de la instancia 11 es: 1\n",
      "La proyección de la instancia 12 respecto al vector promedio de la clase Virginica: 8.584621231459806\n",
      "La predicción de la instancia 12 es: 1\n",
      "La proyección de la instancia 13 respecto al vector promedio de la clase Virginica: 8.261247514277322\n",
      "La predicción de la instancia 13 es: 1\n",
      "La proyección de la instancia 14 respecto al vector promedio de la clase Virginica: 8.56066575721668\n",
      "La predicción de la instancia 14 es: 1\n",
      "La proyección de la instancia 15 respecto al vector promedio de la clase Virginica: 8.333559861419015\n",
      "La predicción de la instancia 15 es: 1\n",
      "La proyección de la instancia 16 respecto al vector promedio de la clase Virginica: 5.627472009697179\n",
      "La predicción de la instancia 16 es: 0\n",
      "La proyección de la instancia 17 respecto al vector promedio de la clase Virginica: 8.172435963879868\n",
      "La predicción de la instancia 17 es: 1\n",
      "La proyección de la instancia 18 respecto al vector promedio de la clase Virginica: 7.581619450778838\n",
      "La predicción de la instancia 18 es: 0\n",
      "La proyección de la instancia 19 respecto al vector promedio de la clase Virginica: 5.497856153357957\n",
      "La predicción de la instancia 19 es: 0\n",
      "La proyección de la instancia 20 respecto al vector promedio de la clase Virginica: 6.251056559721313\n",
      "La predicción de la instancia 20 es: 0\n",
      "La proyección de la instancia 21 respecto al vector promedio de la clase Virginica: 8.129499072584176\n",
      "La predicción de la instancia 21 es: 1\n",
      "La proyección de la instancia 22 respecto al vector promedio de la clase Virginica: 7.910839814782625\n",
      "La predicción de la instancia 22 es: 0\n",
      "La proyección de la instancia 23 respecto al vector promedio de la clase Virginica: 5.890226673380578\n",
      "La predicción de la instancia 23 es: 0\n",
      "La proyección de la instancia 24 respecto al vector promedio de la clase Virginica: 5.143632911258858\n",
      "La predicción de la instancia 24 es: 0\n",
      "La proyección de la instancia 25 respecto al vector promedio de la clase Virginica: 8.491876361079946\n",
      "La predicción de la instancia 25 es: 1\n",
      "La proyección de la instancia 26 respecto al vector promedio de la clase Virginica: 5.349494434722176\n",
      "La predicción de la instancia 26 es: 0\n",
      "La proyección de la instancia 27 respecto al vector promedio de la clase Virginica: 6.299913430922727\n",
      "La predicción de la instancia 27 es: 0\n",
      "La proyección de la instancia 28 respecto al vector promedio de la clase Virginica: 8.183747036597634\n",
      "La predicción de la instancia 28 es: 1\n",
      "La proyección de la instancia 29 respecto al vector promedio de la clase Virginica: 6.489907600837438\n",
      "La predicción de la instancia 29 es: 0\n",
      "La proyección de la instancia 30 respecto al vector promedio de la clase Virginica: 5.919045094080293\n",
      "La predicción de la instancia 30 es: 0\n"
     ]
    }
   ],
   "source": [
    "test_virgi = class_SVM(X_test, virgi_prom, norm_prom_virgi, list_norms_virgi, 'Virginica')"
   ]
  },
  {
   "cell_type": "code",
   "execution_count": 29,
   "metadata": {},
   "outputs": [],
   "source": [
    "def class_final(predicciones_setosa: list, predicciones_versi: list, predicciones_virgi: list, no_train_set: int, no_train_versi: int, no_train_virgi: int, train_values: int) -> list:\n",
    "    prob_set = []\n",
    "    prob_versi = []\n",
    "    prob_virgi = []\n",
    "    y_pred = []\n",
    "\n",
    "    for i in range(len(predicciones_setosa)):\n",
    "        res1 = predicciones_setosa[i] * (no_train_set/train_values)\n",
    "        prob_set.append(res1)\n",
    "        res2 = predicciones_versi[i] * (no_train_versi/train_values)\n",
    "        prob_versi.append(res2)\n",
    "        res3 = predicciones_virgi[i] * (no_train_virgi/train_values)\n",
    "        prob_virgi.append(res3)\n",
    "\n",
    "    # Clasificar cada instancia según las condiciones dadas\n",
    "    for j in range(len(prob_set)):\n",
    "        P1i = prob_set[j]\n",
    "        P2i = prob_versi[j]\n",
    "        P3i = prob_virgi[j]\n",
    "\n",
    "        if (P1i == P2i and P1i == P3i and P2i == P3i):\n",
    "            y_pred.append('Indefinida')\n",
    "        else:\n",
    "            max_prob = max(P1i, P2i, P3i)\n",
    "            if (max_prob == P1i):\n",
    "                y_pred.append('Iris-setosa')\n",
    "            elif (max_prob == P2i):\n",
    "                y_pred.append('Iris-versicolor')\n",
    "            elif (max_prob == P3i):\n",
    "                y_pred.append('Iris-virginica')\n",
    "    \n",
    "    print(f'Probabilidades de pertenencia')\n",
    "    for vals in range(len(prob_set)):\n",
    "        print(f'La probabilidad de pertenencia de la instancia {vals+1} a la clase Setosa es: {prob_set[vals]}')\n",
    "        print(f'La probabilidad de pertenencia de la instancia {vals+1} a la clase Versicolor es: {prob_versi[vals]}')\n",
    "        print(f'La probabilidad de pertenencia de la instancia {vals+1} a la clase Virginca es: {prob_virgi[vals]}')\n",
    "\n",
    "    print('\\t')\n",
    "    print('Clasificaciones finales de las instancias')\n",
    "    for fin in range(len(y_pred)):\n",
    "        print(f'La clasificación final de la instancia {fin+1} es: {y_pred[fin]}')\n",
    "\n",
    "    return y_pred"
   ]
  },
  {
   "cell_type": "code",
   "execution_count": 30,
   "metadata": {},
   "outputs": [
    {
     "name": "stdout",
     "output_type": "stream",
     "text": [
      "39\n",
      "37\n",
      "44\n",
      "120\n"
     ]
    }
   ],
   "source": [
    "conteo = train_setosa['class'].value_counts()['Iris-setosa']\n",
    "print(conteo)\n",
    "conteo2 = train_versicolor['class'].value_counts()['Iris-versicolor']\n",
    "print(conteo2)\n",
    "conteo3 = train_virginica['class'].value_counts()['Iris-virginica']\n",
    "print(conteo3)\n",
    "tam_df = num_filas = X_train.shape[0]\n",
    "print(tam_df)"
   ]
  },
  {
   "cell_type": "code",
   "execution_count": 31,
   "metadata": {},
   "outputs": [
    {
     "name": "stdout",
     "output_type": "stream",
     "text": [
      "Probabilidades de pertenencia\n",
      "La probabilidad de pertenencia de la instancia 1 a la clase Setosa es: 0.0\n",
      "La probabilidad de pertenencia de la instancia 1 a la clase Versicolor es: 0.30833333333333335\n",
      "La probabilidad de pertenencia de la instancia 1 a la clase Virginca es: 0.36666666666666664\n",
      "La probabilidad de pertenencia de la instancia 2 a la clase Setosa es: 0.0\n",
      "La probabilidad de pertenencia de la instancia 2 a la clase Versicolor es: 0.0\n",
      "La probabilidad de pertenencia de la instancia 2 a la clase Virginca es: 0.0\n",
      "La probabilidad de pertenencia de la instancia 3 a la clase Setosa es: 0.325\n",
      "La probabilidad de pertenencia de la instancia 3 a la clase Versicolor es: 0.0\n",
      "La probabilidad de pertenencia de la instancia 3 a la clase Virginca es: 0.0\n",
      "La probabilidad de pertenencia de la instancia 4 a la clase Setosa es: 0.0\n",
      "La probabilidad de pertenencia de la instancia 4 a la clase Versicolor es: 0.30833333333333335\n",
      "La probabilidad de pertenencia de la instancia 4 a la clase Virginca es: 0.36666666666666664\n",
      "La probabilidad de pertenencia de la instancia 5 a la clase Setosa es: 0.325\n",
      "La probabilidad de pertenencia de la instancia 5 a la clase Versicolor es: 0.0\n",
      "La probabilidad de pertenencia de la instancia 5 a la clase Virginca es: 0.0\n",
      "La probabilidad de pertenencia de la instancia 6 a la clase Setosa es: 0.0\n",
      "La probabilidad de pertenencia de la instancia 6 a la clase Versicolor es: 0.30833333333333335\n",
      "La probabilidad de pertenencia de la instancia 6 a la clase Virginca es: 0.36666666666666664\n",
      "La probabilidad de pertenencia de la instancia 7 a la clase Setosa es: 0.325\n",
      "La probabilidad de pertenencia de la instancia 7 a la clase Versicolor es: 0.0\n",
      "La probabilidad de pertenencia de la instancia 7 a la clase Virginca es: 0.0\n",
      "La probabilidad de pertenencia de la instancia 8 a la clase Setosa es: 0.0\n",
      "La probabilidad de pertenencia de la instancia 8 a la clase Versicolor es: 0.30833333333333335\n",
      "La probabilidad de pertenencia de la instancia 8 a la clase Virginca es: 0.36666666666666664\n",
      "La probabilidad de pertenencia de la instancia 9 a la clase Setosa es: 0.0\n",
      "La probabilidad de pertenencia de la instancia 9 a la clase Versicolor es: 0.30833333333333335\n",
      "La probabilidad de pertenencia de la instancia 9 a la clase Virginca es: 0.36666666666666664\n",
      "La probabilidad de pertenencia de la instancia 10 a la clase Setosa es: 0.0\n",
      "La probabilidad de pertenencia de la instancia 10 a la clase Versicolor es: 0.30833333333333335\n",
      "La probabilidad de pertenencia de la instancia 10 a la clase Virginca es: 0.0\n",
      "La probabilidad de pertenencia de la instancia 11 a la clase Setosa es: 0.0\n",
      "La probabilidad de pertenencia de la instancia 11 a la clase Versicolor es: 0.30833333333333335\n",
      "La probabilidad de pertenencia de la instancia 11 a la clase Virginca es: 0.36666666666666664\n",
      "La probabilidad de pertenencia de la instancia 12 a la clase Setosa es: 0.0\n",
      "La probabilidad de pertenencia de la instancia 12 a la clase Versicolor es: 0.30833333333333335\n",
      "La probabilidad de pertenencia de la instancia 12 a la clase Virginca es: 0.36666666666666664\n",
      "La probabilidad de pertenencia de la instancia 13 a la clase Setosa es: 0.0\n",
      "La probabilidad de pertenencia de la instancia 13 a la clase Versicolor es: 0.30833333333333335\n",
      "La probabilidad de pertenencia de la instancia 13 a la clase Virginca es: 0.36666666666666664\n",
      "La probabilidad de pertenencia de la instancia 14 a la clase Setosa es: 0.0\n",
      "La probabilidad de pertenencia de la instancia 14 a la clase Versicolor es: 0.30833333333333335\n",
      "La probabilidad de pertenencia de la instancia 14 a la clase Virginca es: 0.36666666666666664\n",
      "La probabilidad de pertenencia de la instancia 15 a la clase Setosa es: 0.0\n",
      "La probabilidad de pertenencia de la instancia 15 a la clase Versicolor es: 0.30833333333333335\n",
      "La probabilidad de pertenencia de la instancia 15 a la clase Virginca es: 0.36666666666666664\n",
      "La probabilidad de pertenencia de la instancia 16 a la clase Setosa es: 0.325\n",
      "La probabilidad de pertenencia de la instancia 16 a la clase Versicolor es: 0.0\n",
      "La probabilidad de pertenencia de la instancia 16 a la clase Virginca es: 0.0\n",
      "La probabilidad de pertenencia de la instancia 17 a la clase Setosa es: 0.0\n",
      "La probabilidad de pertenencia de la instancia 17 a la clase Versicolor es: 0.30833333333333335\n",
      "La probabilidad de pertenencia de la instancia 17 a la clase Virginca es: 0.36666666666666664\n",
      "La probabilidad de pertenencia de la instancia 18 a la clase Setosa es: 0.0\n",
      "La probabilidad de pertenencia de la instancia 18 a la clase Versicolor es: 0.0\n",
      "La probabilidad de pertenencia de la instancia 18 a la clase Virginca es: 0.0\n",
      "La probabilidad de pertenencia de la instancia 19 a la clase Setosa es: 0.325\n",
      "La probabilidad de pertenencia de la instancia 19 a la clase Versicolor es: 0.0\n",
      "La probabilidad de pertenencia de la instancia 19 a la clase Virginca es: 0.0\n",
      "La probabilidad de pertenencia de la instancia 20 a la clase Setosa es: 0.325\n",
      "La probabilidad de pertenencia de la instancia 20 a la clase Versicolor es: 0.0\n",
      "La probabilidad de pertenencia de la instancia 20 a la clase Virginca es: 0.0\n",
      "La probabilidad de pertenencia de la instancia 21 a la clase Setosa es: 0.0\n",
      "La probabilidad de pertenencia de la instancia 21 a la clase Versicolor es: 0.30833333333333335\n",
      "La probabilidad de pertenencia de la instancia 21 a la clase Virginca es: 0.36666666666666664\n",
      "La probabilidad de pertenencia de la instancia 22 a la clase Setosa es: 0.0\n",
      "La probabilidad de pertenencia de la instancia 22 a la clase Versicolor es: 0.30833333333333335\n",
      "La probabilidad de pertenencia de la instancia 22 a la clase Virginca es: 0.0\n",
      "La probabilidad de pertenencia de la instancia 23 a la clase Setosa es: 0.325\n",
      "La probabilidad de pertenencia de la instancia 23 a la clase Versicolor es: 0.0\n",
      "La probabilidad de pertenencia de la instancia 23 a la clase Virginca es: 0.0\n",
      "La probabilidad de pertenencia de la instancia 24 a la clase Setosa es: 0.325\n",
      "La probabilidad de pertenencia de la instancia 24 a la clase Versicolor es: 0.0\n",
      "La probabilidad de pertenencia de la instancia 24 a la clase Virginca es: 0.0\n",
      "La probabilidad de pertenencia de la instancia 25 a la clase Setosa es: 0.0\n",
      "La probabilidad de pertenencia de la instancia 25 a la clase Versicolor es: 0.30833333333333335\n",
      "La probabilidad de pertenencia de la instancia 25 a la clase Virginca es: 0.36666666666666664\n",
      "La probabilidad de pertenencia de la instancia 26 a la clase Setosa es: 0.325\n",
      "La probabilidad de pertenencia de la instancia 26 a la clase Versicolor es: 0.0\n",
      "La probabilidad de pertenencia de la instancia 26 a la clase Virginca es: 0.0\n",
      "La probabilidad de pertenencia de la instancia 27 a la clase Setosa es: 0.325\n",
      "La probabilidad de pertenencia de la instancia 27 a la clase Versicolor es: 0.0\n",
      "La probabilidad de pertenencia de la instancia 27 a la clase Virginca es: 0.0\n",
      "La probabilidad de pertenencia de la instancia 28 a la clase Setosa es: 0.0\n",
      "La probabilidad de pertenencia de la instancia 28 a la clase Versicolor es: 0.30833333333333335\n",
      "La probabilidad de pertenencia de la instancia 28 a la clase Virginca es: 0.36666666666666664\n",
      "La probabilidad de pertenencia de la instancia 29 a la clase Setosa es: 0.325\n",
      "La probabilidad de pertenencia de la instancia 29 a la clase Versicolor es: 0.0\n",
      "La probabilidad de pertenencia de la instancia 29 a la clase Virginca es: 0.0\n",
      "La probabilidad de pertenencia de la instancia 30 a la clase Setosa es: 0.325\n",
      "La probabilidad de pertenencia de la instancia 30 a la clase Versicolor es: 0.0\n",
      "La probabilidad de pertenencia de la instancia 30 a la clase Virginca es: 0.0\n",
      "\t\n",
      "Clasificaciones finales de las instancias\n",
      "La clasificación final de la instancia 1 es: Iris-virginica\n",
      "La clasificación final de la instancia 2 es: Indefinida\n",
      "La clasificación final de la instancia 3 es: Iris-setosa\n",
      "La clasificación final de la instancia 4 es: Iris-virginica\n",
      "La clasificación final de la instancia 5 es: Iris-setosa\n",
      "La clasificación final de la instancia 6 es: Iris-virginica\n",
      "La clasificación final de la instancia 7 es: Iris-setosa\n",
      "La clasificación final de la instancia 8 es: Iris-virginica\n",
      "La clasificación final de la instancia 9 es: Iris-virginica\n",
      "La clasificación final de la instancia 10 es: Iris-versicolor\n",
      "La clasificación final de la instancia 11 es: Iris-virginica\n",
      "La clasificación final de la instancia 12 es: Iris-virginica\n",
      "La clasificación final de la instancia 13 es: Iris-virginica\n",
      "La clasificación final de la instancia 14 es: Iris-virginica\n",
      "La clasificación final de la instancia 15 es: Iris-virginica\n",
      "La clasificación final de la instancia 16 es: Iris-setosa\n",
      "La clasificación final de la instancia 17 es: Iris-virginica\n",
      "La clasificación final de la instancia 18 es: Indefinida\n",
      "La clasificación final de la instancia 19 es: Iris-setosa\n",
      "La clasificación final de la instancia 20 es: Iris-setosa\n",
      "La clasificación final de la instancia 21 es: Iris-virginica\n",
      "La clasificación final de la instancia 22 es: Iris-versicolor\n",
      "La clasificación final de la instancia 23 es: Iris-setosa\n",
      "La clasificación final de la instancia 24 es: Iris-setosa\n",
      "La clasificación final de la instancia 25 es: Iris-virginica\n",
      "La clasificación final de la instancia 26 es: Iris-setosa\n",
      "La clasificación final de la instancia 27 es: Iris-setosa\n",
      "La clasificación final de la instancia 28 es: Iris-virginica\n",
      "La clasificación final de la instancia 29 es: Iris-setosa\n",
      "La clasificación final de la instancia 30 es: Iris-setosa\n"
     ]
    }
   ],
   "source": [
    "y_pred = class_final(test_setosa, test_versi, test_virgi, conteo, conteo2, conteo3, tam_df)"
   ]
  },
  {
   "cell_type": "code",
   "execution_count": 32,
   "metadata": {},
   "outputs": [
    {
     "data": {
      "text/plain": [
       "['Iris-virginica',\n",
       " 'Indefinida',\n",
       " 'Iris-setosa',\n",
       " 'Iris-virginica',\n",
       " 'Iris-setosa',\n",
       " 'Iris-virginica',\n",
       " 'Iris-setosa',\n",
       " 'Iris-virginica',\n",
       " 'Iris-virginica',\n",
       " 'Iris-versicolor',\n",
       " 'Iris-virginica',\n",
       " 'Iris-virginica',\n",
       " 'Iris-virginica',\n",
       " 'Iris-virginica',\n",
       " 'Iris-virginica',\n",
       " 'Iris-setosa',\n",
       " 'Iris-virginica',\n",
       " 'Indefinida',\n",
       " 'Iris-setosa',\n",
       " 'Iris-setosa',\n",
       " 'Iris-virginica',\n",
       " 'Iris-versicolor',\n",
       " 'Iris-setosa',\n",
       " 'Iris-setosa',\n",
       " 'Iris-virginica',\n",
       " 'Iris-setosa',\n",
       " 'Iris-setosa',\n",
       " 'Iris-virginica',\n",
       " 'Iris-setosa',\n",
       " 'Iris-setosa']"
      ]
     },
     "execution_count": 32,
     "metadata": {},
     "output_type": "execute_result"
    }
   ],
   "source": [
    "y_pred"
   ]
  },
  {
   "cell_type": "code",
   "execution_count": 33,
   "metadata": {},
   "outputs": [
    {
     "name": "stdout",
     "output_type": "stream",
     "text": [
      "                 precision    recall  f1-score   support\n",
      "\n",
      "     Indefinida       0.00      0.00      0.00         0\n",
      "    Iris-setosa       0.92      1.00      0.96        11\n",
      "Iris-versicolor       1.00      0.15      0.27        13\n",
      " Iris-virginica       0.43      1.00      0.60         6\n",
      "\n",
      "       accuracy                           0.63        30\n",
      "      macro avg       0.59      0.54      0.46        30\n",
      "   weighted avg       0.86      0.63      0.59        30\n",
      "\n"
     ]
    },
    {
     "name": "stderr",
     "output_type": "stream",
     "text": [
      "c:\\Users\\dern9\\AppData\\Local\\Programs\\Python\\Python312\\Lib\\site-packages\\sklearn\\metrics\\_classification.py:1497: UndefinedMetricWarning: Recall is ill-defined and being set to 0.0 in labels with no true samples. Use `zero_division` parameter to control this behavior.\n",
      "  _warn_prf(average, modifier, f\"{metric.capitalize()} is\", len(result))\n",
      "c:\\Users\\dern9\\AppData\\Local\\Programs\\Python\\Python312\\Lib\\site-packages\\sklearn\\metrics\\_classification.py:1497: UndefinedMetricWarning: Recall is ill-defined and being set to 0.0 in labels with no true samples. Use `zero_division` parameter to control this behavior.\n",
      "  _warn_prf(average, modifier, f\"{metric.capitalize()} is\", len(result))\n",
      "c:\\Users\\dern9\\AppData\\Local\\Programs\\Python\\Python312\\Lib\\site-packages\\sklearn\\metrics\\_classification.py:1497: UndefinedMetricWarning: Recall is ill-defined and being set to 0.0 in labels with no true samples. Use `zero_division` parameter to control this behavior.\n",
      "  _warn_prf(average, modifier, f\"{metric.capitalize()} is\", len(result))\n"
     ]
    }
   ],
   "source": [
    "reporte = classification_report(y_test, y_pred)\n",
    "print(f'{reporte}')"
   ]
  },
  {
   "cell_type": "code",
   "execution_count": null,
   "metadata": {},
   "outputs": [
    {
     "data": {
      "image/png": "[encoded data removed]",
      "text/plain": [
       "<Figure size 640x480 with 2 Axes>"
      ]
     },
     "metadata": {},
     "output_type": "display_data"
    }
   ],
   "source": [
    "# Crear la matriz de confusión\n",
    "cm = confusion_matrix(y_test, y_pred, labels=['Iris-setosa', 'Iris-versicolor', 'Iris-virginica', 'Indefinida'])\n",
    "\n",
    "# Visualizar la matriz de confusión\n",
    "disp = ConfusionMatrixDisplay(confusion_matrix=cm, display_labels=['Iris-setosa', 'Iris-versicolor', 'Iris-virginica', 'Indefinida'])\n",
    "disp.plot(cmap=plt.cm.Blues)\n",
    "plt.show()"
   ]
  }
 ],
 "metadata": {
  "kernelspec": {
   "display_name": "Python 3",
   "language": "python",
   "name": "python3"
  },
  "language_info": {
   "codemirror_mode": {
    "name": "ipython",
    "version": 3
   },
   "file_extension": ".py",
   "mimetype": "text/x-python",
   "name": "python",
   "nbconvert_exporter": "python",
   "pygments_lexer": "ipython3",
   "version": "3.12.1"
  },
  "orig_nbformat": 4
 },
 "nbformat": 4,
 "nbformat_minor": 2
}
